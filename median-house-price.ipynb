{
 "cells": [
  {
   "cell_type": "code",
   "execution_count": 1,
   "id": "10c0b6b4",
   "metadata": {
    "_cell_guid": "b1076dfc-b9ad-4769-8c92-a6c4dae69d19",
    "_uuid": "8f2839f25d086af736a60e9eeb907d3b93b6e0e5",
    "execution": {
     "iopub.execute_input": "2022-07-11T03:34:47.670718Z",
     "iopub.status.busy": "2022-07-11T03:34:47.670221Z",
     "iopub.status.idle": "2022-07-11T03:34:47.688134Z",
     "shell.execute_reply": "2022-07-11T03:34:47.687313Z"
    },
    "papermill": {
     "duration": 0.031093,
     "end_time": "2022-07-11T03:34:47.690833",
     "exception": false,
     "start_time": "2022-07-11T03:34:47.659740",
     "status": "completed"
    },
    "tags": []
   },
   "outputs": [
    {
     "name": "stdout",
     "output_type": "stream",
     "text": [
      "/kaggle/input/medianhouseprice/MSPUS.csv\n"
     ]
    }
   ],
   "source": [
    "# This Python 3 environment comes with many helpful analytics libraries installed\n",
    "# It is defined by the kaggle/python Docker image: https://github.com/kaggle/docker-python\n",
    "# For example, here's several helpful packages to load\n",
    "\n",
    "import numpy as np # linear algebra\n",
    "import pandas as pd # data processing, CSV file I/O (e.g. pd.read_csv)\n",
    "\n",
    "# Input data files are available in the read-only \"../input/\" directory\n",
    "# For example, running this (by clicking run or pressing Shift+Enter) will list all files under the input directory\n",
    "\n",
    "import os\n",
    "for dirname, _, filenames in os.walk('/kaggle/input'):\n",
    "    for filename in filenames:\n",
    "        print(os.path.join(dirname, filename))\n",
    "\n",
    "# You can write up to 20GB to the current directory (/kaggle/working/) that gets preserved as output when you create a version using \"Save & Run All\" \n",
    "# You can also write temporary files to /kaggle/temp/, but they won't be saved outside of the current session"
   ]
  },
  {
   "cell_type": "markdown",
   "id": "5d0e2f96",
   "metadata": {
    "papermill": {
     "duration": 0.006852,
     "end_time": "2022-07-11T03:34:47.705303",
     "exception": false,
     "start_time": "2022-07-11T03:34:47.698451",
     "status": "completed"
    },
    "tags": []
   },
   "source": [
    "Reference:\n",
    "Tensorflow tutorials\n",
    "https://www.tensorflow.org/tutorials/structured_data/time_series#multi-step_models"
   ]
  },
  {
   "cell_type": "code",
   "execution_count": 2,
   "id": "a78b2ffa",
   "metadata": {
    "execution": {
     "iopub.execute_input": "2022-07-11T03:34:47.721974Z",
     "iopub.status.busy": "2022-07-11T03:34:47.721316Z",
     "iopub.status.idle": "2022-07-11T03:34:58.744879Z",
     "shell.execute_reply": "2022-07-11T03:34:58.744009Z"
    },
    "papermill": {
     "duration": 11.034555,
     "end_time": "2022-07-11T03:34:58.747478",
     "exception": false,
     "start_time": "2022-07-11T03:34:47.712923",
     "status": "completed"
    },
    "tags": []
   },
   "outputs": [],
   "source": [
    "import os\n",
    "import datetime\n",
    "import IPython\n",
    "import IPython.display\n",
    "import matplotlib as mpl\n",
    "import matplotlib.pyplot as plt\n",
    "import numpy as np\n",
    "import pandas as pd\n",
    "import seaborn as sns\n",
    "import tensorflow as tf\n",
    "\n",
    "mpl.rcParams['figure.figsize']=(8,6)\n",
    "mpl.rcParams['axes.grid']=False\n",
    "\n",
    "from scipy import stats\n",
    "from statsmodels.tsa.stattools import adfuller\n",
    "from statsmodels.tsa.stattools import adfuller,kpss\n",
    "from statsmodels.graphics.tsaplots import plot_acf,plot_pacf\n",
    "from statsmodels.tsa.seasonal import seasonal_decompose\n",
    "#from statsmodels.tsa.arima.model import ARIMA\n",
    "from statsmodels.tsa.statespace.sarimax import SARIMAX\n",
    "from tensorflow.keras.metrics import mean_absolute_percentage_error\n",
    "\n",
    "from keras.layers import *\n",
    "from sklearn.metrics import mean_absolute_error\n",
    "from keras.callbacks import EarlyStopping"
   ]
  },
  {
   "cell_type": "code",
   "execution_count": 3,
   "id": "337b8938",
   "metadata": {
    "execution": {
     "iopub.execute_input": "2022-07-11T03:34:58.764679Z",
     "iopub.status.busy": "2022-07-11T03:34:58.763489Z",
     "iopub.status.idle": "2022-07-11T03:34:58.778474Z",
     "shell.execute_reply": "2022-07-11T03:34:58.777453Z"
    },
    "papermill": {
     "duration": 0.025726,
     "end_time": "2022-07-11T03:34:58.780796",
     "exception": false,
     "start_time": "2022-07-11T03:34:58.755070",
     "status": "completed"
    },
    "tags": []
   },
   "outputs": [],
   "source": [
    "df=pd.read_csv('/kaggle/input/medianhouseprice/MSPUS.csv')"
   ]
  },
  {
   "cell_type": "code",
   "execution_count": 4,
   "id": "2d2f0207",
   "metadata": {
    "execution": {
     "iopub.execute_input": "2022-07-11T03:34:58.797077Z",
     "iopub.status.busy": "2022-07-11T03:34:58.796699Z",
     "iopub.status.idle": "2022-07-11T03:34:58.802064Z",
     "shell.execute_reply": "2022-07-11T03:34:58.801009Z"
    },
    "papermill": {
     "duration": 0.016753,
     "end_time": "2022-07-11T03:34:58.804799",
     "exception": false,
     "start_time": "2022-07-11T03:34:58.788046",
     "status": "completed"
    },
    "tags": []
   },
   "outputs": [
    {
     "name": "stdout",
     "output_type": "stream",
     "text": [
      "237 2\n"
     ]
    }
   ],
   "source": [
    "rows,columns=df.shape[0],df.shape[1]\n",
    "print(rows,columns)"
   ]
  },
  {
   "cell_type": "code",
   "execution_count": 5,
   "id": "494acdc8",
   "metadata": {
    "execution": {
     "iopub.execute_input": "2022-07-11T03:34:58.823461Z",
     "iopub.status.busy": "2022-07-11T03:34:58.822779Z",
     "iopub.status.idle": "2022-07-11T03:34:58.839192Z",
     "shell.execute_reply": "2022-07-11T03:34:58.838305Z"
    },
    "papermill": {
     "duration": 0.02743,
     "end_time": "2022-07-11T03:34:58.841212",
     "exception": false,
     "start_time": "2022-07-11T03:34:58.813782",
     "status": "completed"
    },
    "tags": []
   },
   "outputs": [],
   "source": [
    "df['DATE']=pd.to_datetime(df['DATE'])\n",
    "df.set_index('DATE',inplace=True)"
   ]
  },
  {
   "cell_type": "code",
   "execution_count": 6,
   "id": "b6c9d3a0",
   "metadata": {
    "execution": {
     "iopub.execute_input": "2022-07-11T03:34:58.858872Z",
     "iopub.status.busy": "2022-07-11T03:34:58.858235Z",
     "iopub.status.idle": "2022-07-11T03:34:58.873850Z",
     "shell.execute_reply": "2022-07-11T03:34:58.872651Z"
    },
    "papermill": {
     "duration": 0.027063,
     "end_time": "2022-07-11T03:34:58.875975",
     "exception": false,
     "start_time": "2022-07-11T03:34:58.848912",
     "status": "completed"
    },
    "tags": []
   },
   "outputs": [
    {
     "data": {
      "text/html": [
       "<div>\n",
       "<style scoped>\n",
       "    .dataframe tbody tr th:only-of-type {\n",
       "        vertical-align: middle;\n",
       "    }\n",
       "\n",
       "    .dataframe tbody tr th {\n",
       "        vertical-align: top;\n",
       "    }\n",
       "\n",
       "    .dataframe thead th {\n",
       "        text-align: right;\n",
       "    }\n",
       "</style>\n",
       "<table border=\"1\" class=\"dataframe\">\n",
       "  <thead>\n",
       "    <tr style=\"text-align: right;\">\n",
       "      <th></th>\n",
       "      <th>MSPUS</th>\n",
       "    </tr>\n",
       "    <tr>\n",
       "      <th>DATE</th>\n",
       "      <th></th>\n",
       "    </tr>\n",
       "  </thead>\n",
       "  <tbody>\n",
       "    <tr>\n",
       "      <th>1963-01-01</th>\n",
       "      <td>17800.0</td>\n",
       "    </tr>\n",
       "    <tr>\n",
       "      <th>1963-04-01</th>\n",
       "      <td>18000.0</td>\n",
       "    </tr>\n",
       "    <tr>\n",
       "      <th>1963-07-01</th>\n",
       "      <td>17900.0</td>\n",
       "    </tr>\n",
       "    <tr>\n",
       "      <th>1963-10-01</th>\n",
       "      <td>18500.0</td>\n",
       "    </tr>\n",
       "    <tr>\n",
       "      <th>1964-01-01</th>\n",
       "      <td>18500.0</td>\n",
       "    </tr>\n",
       "  </tbody>\n",
       "</table>\n",
       "</div>"
      ],
      "text/plain": [
       "              MSPUS\n",
       "DATE               \n",
       "1963-01-01  17800.0\n",
       "1963-04-01  18000.0\n",
       "1963-07-01  17900.0\n",
       "1963-10-01  18500.0\n",
       "1964-01-01  18500.0"
      ]
     },
     "execution_count": 6,
     "metadata": {},
     "output_type": "execute_result"
    }
   ],
   "source": [
    "df.head()"
   ]
  },
  {
   "cell_type": "code",
   "execution_count": 7,
   "id": "ef5a884e",
   "metadata": {
    "execution": {
     "iopub.execute_input": "2022-07-11T03:34:58.893298Z",
     "iopub.status.busy": "2022-07-11T03:34:58.892351Z",
     "iopub.status.idle": "2022-07-11T03:34:58.916139Z",
     "shell.execute_reply": "2022-07-11T03:34:58.915327Z"
    },
    "papermill": {
     "duration": 0.034352,
     "end_time": "2022-07-11T03:34:58.918035",
     "exception": false,
     "start_time": "2022-07-11T03:34:58.883683",
     "status": "completed"
    },
    "tags": []
   },
   "outputs": [
    {
     "data": {
      "text/html": [
       "<div>\n",
       "<style scoped>\n",
       "    .dataframe tbody tr th:only-of-type {\n",
       "        vertical-align: middle;\n",
       "    }\n",
       "\n",
       "    .dataframe tbody tr th {\n",
       "        vertical-align: top;\n",
       "    }\n",
       "\n",
       "    .dataframe thead th {\n",
       "        text-align: right;\n",
       "    }\n",
       "</style>\n",
       "<table border=\"1\" class=\"dataframe\">\n",
       "  <thead>\n",
       "    <tr style=\"text-align: right;\">\n",
       "      <th></th>\n",
       "      <th>count</th>\n",
       "      <th>mean</th>\n",
       "      <th>std</th>\n",
       "      <th>min</th>\n",
       "      <th>25%</th>\n",
       "      <th>50%</th>\n",
       "      <th>75%</th>\n",
       "      <th>max</th>\n",
       "    </tr>\n",
       "  </thead>\n",
       "  <tbody>\n",
       "    <tr>\n",
       "      <th>MSPUS</th>\n",
       "      <td>237.0</td>\n",
       "      <td>143973.417722</td>\n",
       "      <td>103386.305</td>\n",
       "      <td>17800.0</td>\n",
       "      <td>51600.0</td>\n",
       "      <td>125000.0</td>\n",
       "      <td>224300.0</td>\n",
       "      <td>428700.0</td>\n",
       "    </tr>\n",
       "  </tbody>\n",
       "</table>\n",
       "</div>"
      ],
      "text/plain": [
       "       count           mean         std      min      25%       50%       75%  \\\n",
       "MSPUS  237.0  143973.417722  103386.305  17800.0  51600.0  125000.0  224300.0   \n",
       "\n",
       "            max  \n",
       "MSPUS  428700.0  "
      ]
     },
     "execution_count": 7,
     "metadata": {},
     "output_type": "execute_result"
    }
   ],
   "source": [
    "df.describe().transpose()"
   ]
  },
  {
   "cell_type": "code",
   "execution_count": 8,
   "id": "ef8da934",
   "metadata": {
    "execution": {
     "iopub.execute_input": "2022-07-11T03:34:58.936006Z",
     "iopub.status.busy": "2022-07-11T03:34:58.935319Z",
     "iopub.status.idle": "2022-07-11T03:35:02.166651Z",
     "shell.execute_reply": "2022-07-11T03:35:02.165543Z"
    },
    "papermill": {
     "duration": 3.242525,
     "end_time": "2022-07-11T03:35:02.169011",
     "exception": false,
     "start_time": "2022-07-11T03:34:58.926486",
     "status": "completed"
    },
    "tags": []
   },
   "outputs": [
    {
     "data": {
      "image/png": "[encoded data removed]",
      "text/plain": [
       "<Figure size 2160x576 with 1 Axes>"
      ]
     },
     "metadata": {
      "needs_background": "light"
     },
     "output_type": "display_data"
    }
   ],
   "source": [
    "import matplotlib.dates as mdates\n",
    "\n",
    "fig, ax = plt.subplots(figsize=(30, 8))\n",
    "\n",
    "monthly_locator = mdates.MonthLocator()\n",
    "year_locator = mdates.MonthLocator(12)\n",
    "year_month_formatter = mdates.DateFormatter(\"%Y-%m\") # four digits for year, two for month\n",
    "ax.xaxis.set_major_locator(year_locator)\n",
    "ax.xaxis.set_minor_locator(monthly_locator)\n",
    "ax.xaxis.set_major_formatter(year_month_formatter)\n",
    "ax.plot(df.index, df.MSPUS)\n",
    "\n",
    "fig.autofmt_xdate()\n"
   ]
  },
  {
   "cell_type": "code",
   "execution_count": 9,
   "id": "c16361b8",
   "metadata": {
    "execution": {
     "iopub.execute_input": "2022-07-11T03:35:02.188059Z",
     "iopub.status.busy": "2022-07-11T03:35:02.187689Z",
     "iopub.status.idle": "2022-07-11T03:35:02.193277Z",
     "shell.execute_reply": "2022-07-11T03:35:02.192429Z"
    },
    "papermill": {
     "duration": 0.017413,
     "end_time": "2022-07-11T03:35:02.195255",
     "exception": false,
     "start_time": "2022-07-11T03:35:02.177842",
     "status": "completed"
    },
    "tags": []
   },
   "outputs": [],
   "source": [
    "# Check stationarity of the data\n",
    "def adf_test(timeseries):\n",
    "    print(\"Results of Augmented Dickey-fuller test\")\n",
    "    dftest = adfuller(timeseries,autolag='AIC')\n",
    "    dfoutput=pd.Series(dftest[0:4],index=['Test Statistic','p-value','#lags used','number of observations used'])\n",
    "    for key,value in dftest[4].items():\n",
    "        dfoutput['critical value (%s)'%key]= value\n",
    "    print(dfoutput)"
   ]
  },
  {
   "cell_type": "code",
   "execution_count": 10,
   "id": "cc91ce2e",
   "metadata": {
    "execution": {
     "iopub.execute_input": "2022-07-11T03:35:02.214427Z",
     "iopub.status.busy": "2022-07-11T03:35:02.213862Z",
     "iopub.status.idle": "2022-07-11T03:35:02.235517Z",
     "shell.execute_reply": "2022-07-11T03:35:02.234478Z"
    },
    "papermill": {
     "duration": 0.034112,
     "end_time": "2022-07-11T03:35:02.237963",
     "exception": false,
     "start_time": "2022-07-11T03:35:02.203851",
     "status": "completed"
    },
    "tags": []
   },
   "outputs": [
    {
     "data": {
      "text/html": [
       "<div>\n",
       "<style scoped>\n",
       "    .dataframe tbody tr th:only-of-type {\n",
       "        vertical-align: middle;\n",
       "    }\n",
       "\n",
       "    .dataframe tbody tr th {\n",
       "        vertical-align: top;\n",
       "    }\n",
       "\n",
       "    .dataframe thead th {\n",
       "        text-align: right;\n",
       "    }\n",
       "</style>\n",
       "<table border=\"1\" class=\"dataframe\">\n",
       "  <thead>\n",
       "    <tr style=\"text-align: right;\">\n",
       "      <th></th>\n",
       "      <th>MSPUS</th>\n",
       "      <th>first_diff</th>\n",
       "    </tr>\n",
       "    <tr>\n",
       "      <th>DATE</th>\n",
       "      <th></th>\n",
       "      <th></th>\n",
       "    </tr>\n",
       "  </thead>\n",
       "  <tbody>\n",
       "    <tr>\n",
       "      <th>1963-01-01</th>\n",
       "      <td>17800.0</td>\n",
       "      <td>NaN</td>\n",
       "    </tr>\n",
       "    <tr>\n",
       "      <th>1963-04-01</th>\n",
       "      <td>18000.0</td>\n",
       "      <td>200.0</td>\n",
       "    </tr>\n",
       "    <tr>\n",
       "      <th>1963-07-01</th>\n",
       "      <td>17900.0</td>\n",
       "      <td>-100.0</td>\n",
       "    </tr>\n",
       "    <tr>\n",
       "      <th>1963-10-01</th>\n",
       "      <td>18500.0</td>\n",
       "      <td>600.0</td>\n",
       "    </tr>\n",
       "    <tr>\n",
       "      <th>1964-01-01</th>\n",
       "      <td>18500.0</td>\n",
       "      <td>0.0</td>\n",
       "    </tr>\n",
       "  </tbody>\n",
       "</table>\n",
       "</div>"
      ],
      "text/plain": [
       "              MSPUS  first_diff\n",
       "DATE                           \n",
       "1963-01-01  17800.0         NaN\n",
       "1963-04-01  18000.0       200.0\n",
       "1963-07-01  17900.0      -100.0\n",
       "1963-10-01  18500.0       600.0\n",
       "1964-01-01  18500.0         0.0"
      ]
     },
     "execution_count": 10,
     "metadata": {},
     "output_type": "execute_result"
    }
   ],
   "source": [
    "df['first_diff']=df['MSPUS'].diff(periods=1)\n",
    "df.head()"
   ]
  },
  {
   "cell_type": "code",
   "execution_count": 11,
   "id": "9bd54bb5",
   "metadata": {
    "execution": {
     "iopub.execute_input": "2022-07-11T03:35:02.258223Z",
     "iopub.status.busy": "2022-07-11T03:35:02.257833Z",
     "iopub.status.idle": "2022-07-11T03:35:02.286943Z",
     "shell.execute_reply": "2022-07-11T03:35:02.285124Z"
    },
    "papermill": {
     "duration": 0.043023,
     "end_time": "2022-07-11T03:35:02.290354",
     "exception": false,
     "start_time": "2022-07-11T03:35:02.247331",
     "status": "completed"
    },
    "tags": []
   },
   "outputs": [
    {
     "name": "stdout",
     "output_type": "stream",
     "text": [
      "Results of Augmented Dickey-fuller test\n",
      "Test Statistic                  -2.901239\n",
      "p-value                          0.045204\n",
      "#lags used                      11.000000\n",
      "number of observations used    224.000000\n",
      "critical value (1%)             -3.459885\n",
      "critical value (5%)             -2.874531\n",
      "critical value (10%)            -2.573694\n",
      "dtype: float64\n"
     ]
    }
   ],
   "source": [
    "adf_test(df.first_diff.dropna())"
   ]
  },
  {
   "cell_type": "markdown",
   "id": "d37849eb",
   "metadata": {
    "papermill": {
     "duration": 0.008656,
     "end_time": "2022-07-11T03:35:02.308375",
     "exception": false,
     "start_time": "2022-07-11T03:35:02.299719",
     "status": "completed"
    },
    "tags": []
   },
   "source": [
    "P-Value is at the border . Its less than 0.05 but not much so that we can decide about wether the series is stationary or not."
   ]
  },
  {
   "cell_type": "code",
   "execution_count": 12,
   "id": "cdafba97",
   "metadata": {
    "execution": {
     "iopub.execute_input": "2022-07-11T03:35:02.328027Z",
     "iopub.status.busy": "2022-07-11T03:35:02.327293Z",
     "iopub.status.idle": "2022-07-11T03:35:02.333563Z",
     "shell.execute_reply": "2022-07-11T03:35:02.332647Z"
    },
    "papermill": {
     "duration": 0.018456,
     "end_time": "2022-07-11T03:35:02.335600",
     "exception": false,
     "start_time": "2022-07-11T03:35:02.317144",
     "status": "completed"
    },
    "tags": []
   },
   "outputs": [],
   "source": [
    "# Check KPSS test\n",
    "def kpss_test(timeseries):\n",
    "    print ('Results of KPSS Test:')\n",
    "    kpsstest = kpss(timeseries, regression='c')\n",
    "    kpss_output = pd.Series(kpsstest[0:3], index=['Test Statistic','p-value','#Lags Used'])\n",
    "    for key,value in kpsstest[3].items():\n",
    "        kpss_output['Critical Value (%s)'%key] = value\n",
    "    print (kpss_output)"
   ]
  },
  {
   "cell_type": "code",
   "execution_count": 13,
   "id": "88025763",
   "metadata": {
    "execution": {
     "iopub.execute_input": "2022-07-11T03:35:02.354798Z",
     "iopub.status.busy": "2022-07-11T03:35:02.354004Z",
     "iopub.status.idle": "2022-07-11T03:35:02.364348Z",
     "shell.execute_reply": "2022-07-11T03:35:02.362848Z"
    },
    "papermill": {
     "duration": 0.023507,
     "end_time": "2022-07-11T03:35:02.367648",
     "exception": false,
     "start_time": "2022-07-11T03:35:02.344141",
     "status": "completed"
    },
    "tags": []
   },
   "outputs": [
    {
     "name": "stdout",
     "output_type": "stream",
     "text": [
      "Results of KPSS Test:\n",
      "Test Statistic           0.621725\n",
      "p-value                  0.020661\n",
      "#Lags Used               8.000000\n",
      "Critical Value (10%)     0.347000\n",
      "Critical Value (5%)      0.463000\n",
      "Critical Value (2.5%)    0.574000\n",
      "Critical Value (1%)      0.739000\n",
      "dtype: float64\n"
     ]
    }
   ],
   "source": [
    "kpss_test(df.first_diff.dropna())"
   ]
  },
  {
   "cell_type": "markdown",
   "id": "b09d47cd",
   "metadata": {
    "papermill": {
     "duration": 0.008594,
     "end_time": "2022-07-11T03:35:02.385553",
     "exception": false,
     "start_time": "2022-07-11T03:35:02.376959",
     "status": "completed"
    },
    "tags": []
   },
   "source": [
    "Pvalue is not >0.05 so it seems series is not stationary."
   ]
  },
  {
   "cell_type": "code",
   "execution_count": 14,
   "id": "6896e56a",
   "metadata": {
    "execution": {
     "iopub.execute_input": "2022-07-11T03:35:02.405318Z",
     "iopub.status.busy": "2022-07-11T03:35:02.404875Z",
     "iopub.status.idle": "2022-07-11T03:35:02.560301Z",
     "shell.execute_reply": "2022-07-11T03:35:02.559229Z"
    },
    "papermill": {
     "duration": 0.168141,
     "end_time": "2022-07-11T03:35:02.562714",
     "exception": false,
     "start_time": "2022-07-11T03:35:02.394573",
     "status": "completed"
    },
    "tags": []
   },
   "outputs": [
    {
     "data": {
      "image/png": "[encoded data removed]",
      "text/plain": [
       "<Figure size 1008x432 with 1 Axes>"
      ]
     },
     "metadata": {
      "needs_background": "light"
     },
     "output_type": "display_data"
    }
   ],
   "source": [
    "# Check ACF(Autocorrelation)\n",
    "fig,ax=plt.subplots(figsize=(14,6))\n",
    "plot_acf(df.first_diff.dropna(),ax=ax,lags=100);\n",
    "plt.ylim([-0.5,1.05]);"
   ]
  },
  {
   "cell_type": "markdown",
   "id": "1124363b",
   "metadata": {
    "papermill": {
     "duration": 0.008698,
     "end_time": "2022-07-11T03:35:02.580588",
     "exception": false,
     "start_time": "2022-07-11T03:35:02.571890",
     "status": "completed"
    },
    "tags": []
   },
   "source": [
    "Since series does not pass both tests, we can say that its not stationary."
   ]
  },
  {
   "cell_type": "markdown",
   "id": "a795828e",
   "metadata": {
    "papermill": {
     "duration": 0.008673,
     "end_time": "2022-07-11T03:35:02.598304",
     "exception": false,
     "start_time": "2022-07-11T03:35:02.589631",
     "status": "completed"
    },
    "tags": []
   },
   "source": [
    "Split the data in (70%,20%,10%) for the training, validation and test sets. Data is not shuffled before splitting. Because it ensures windows of consecutive samples is still possible and validation/test data looks more realistic."
   ]
  },
  {
   "cell_type": "code",
   "execution_count": 15,
   "id": "db875e3b",
   "metadata": {
    "execution": {
     "iopub.execute_input": "2022-07-11T03:35:02.618428Z",
     "iopub.status.busy": "2022-07-11T03:35:02.617748Z",
     "iopub.status.idle": "2022-07-11T03:35:02.624061Z",
     "shell.execute_reply": "2022-07-11T03:35:02.623323Z"
    },
    "papermill": {
     "duration": 0.018942,
     "end_time": "2022-07-11T03:35:02.626355",
     "exception": false,
     "start_time": "2022-07-11T03:35:02.607413",
     "status": "completed"
    },
    "tags": []
   },
   "outputs": [],
   "source": [
    "df.drop(['first_diff'],axis=1,inplace=True)"
   ]
  },
  {
   "cell_type": "code",
   "execution_count": 16,
   "id": "ee3778a2",
   "metadata": {
    "execution": {
     "iopub.execute_input": "2022-07-11T03:35:02.646685Z",
     "iopub.status.busy": "2022-07-11T03:35:02.646131Z",
     "iopub.status.idle": "2022-07-11T03:35:02.656276Z",
     "shell.execute_reply": "2022-07-11T03:35:02.655063Z"
    },
    "papermill": {
     "duration": 0.023156,
     "end_time": "2022-07-11T03:35:02.658543",
     "exception": false,
     "start_time": "2022-07-11T03:35:02.635387",
     "status": "completed"
    },
    "tags": []
   },
   "outputs": [
    {
     "data": {
      "text/html": [
       "<div>\n",
       "<style scoped>\n",
       "    .dataframe tbody tr th:only-of-type {\n",
       "        vertical-align: middle;\n",
       "    }\n",
       "\n",
       "    .dataframe tbody tr th {\n",
       "        vertical-align: top;\n",
       "    }\n",
       "\n",
       "    .dataframe thead th {\n",
       "        text-align: right;\n",
       "    }\n",
       "</style>\n",
       "<table border=\"1\" class=\"dataframe\">\n",
       "  <thead>\n",
       "    <tr style=\"text-align: right;\">\n",
       "      <th></th>\n",
       "      <th>MSPUS</th>\n",
       "    </tr>\n",
       "    <tr>\n",
       "      <th>DATE</th>\n",
       "      <th></th>\n",
       "    </tr>\n",
       "  </thead>\n",
       "  <tbody>\n",
       "    <tr>\n",
       "      <th>1963-01-01</th>\n",
       "      <td>17800.0</td>\n",
       "    </tr>\n",
       "    <tr>\n",
       "      <th>1963-04-01</th>\n",
       "      <td>18000.0</td>\n",
       "    </tr>\n",
       "    <tr>\n",
       "      <th>1963-07-01</th>\n",
       "      <td>17900.0</td>\n",
       "    </tr>\n",
       "    <tr>\n",
       "      <th>1963-10-01</th>\n",
       "      <td>18500.0</td>\n",
       "    </tr>\n",
       "    <tr>\n",
       "      <th>1964-01-01</th>\n",
       "      <td>18500.0</td>\n",
       "    </tr>\n",
       "  </tbody>\n",
       "</table>\n",
       "</div>"
      ],
      "text/plain": [
       "              MSPUS\n",
       "DATE               \n",
       "1963-01-01  17800.0\n",
       "1963-04-01  18000.0\n",
       "1963-07-01  17900.0\n",
       "1963-10-01  18500.0\n",
       "1964-01-01  18500.0"
      ]
     },
     "execution_count": 16,
     "metadata": {},
     "output_type": "execute_result"
    }
   ],
   "source": [
    "df.head()"
   ]
  },
  {
   "cell_type": "code",
   "execution_count": 17,
   "id": "9c3f5dae",
   "metadata": {
    "execution": {
     "iopub.execute_input": "2022-07-11T03:35:02.678943Z",
     "iopub.status.busy": "2022-07-11T03:35:02.678218Z",
     "iopub.status.idle": "2022-07-11T03:35:02.690135Z",
     "shell.execute_reply": "2022-07-11T03:35:02.689049Z"
    },
    "papermill": {
     "duration": 0.024563,
     "end_time": "2022-07-11T03:35:02.692275",
     "exception": false,
     "start_time": "2022-07-11T03:35:02.667712",
     "status": "completed"
    },
    "tags": []
   },
   "outputs": [
    {
     "data": {
      "text/html": [
       "<div>\n",
       "<style scoped>\n",
       "    .dataframe tbody tr th:only-of-type {\n",
       "        vertical-align: middle;\n",
       "    }\n",
       "\n",
       "    .dataframe tbody tr th {\n",
       "        vertical-align: top;\n",
       "    }\n",
       "\n",
       "    .dataframe thead th {\n",
       "        text-align: right;\n",
       "    }\n",
       "</style>\n",
       "<table border=\"1\" class=\"dataframe\">\n",
       "  <thead>\n",
       "    <tr style=\"text-align: right;\">\n",
       "      <th></th>\n",
       "      <th>MSPUS</th>\n",
       "    </tr>\n",
       "    <tr>\n",
       "      <th>DATE</th>\n",
       "      <th></th>\n",
       "    </tr>\n",
       "  </thead>\n",
       "  <tbody>\n",
       "    <tr>\n",
       "      <th>2021-07-01</th>\n",
       "      <td>411200.0</td>\n",
       "    </tr>\n",
       "    <tr>\n",
       "      <th>2021-10-01</th>\n",
       "      <td>423600.0</td>\n",
       "    </tr>\n",
       "    <tr>\n",
       "      <th>2022-01-01</th>\n",
       "      <td>428700.0</td>\n",
       "    </tr>\n",
       "  </tbody>\n",
       "</table>\n",
       "</div>"
      ],
      "text/plain": [
       "               MSPUS\n",
       "DATE                \n",
       "2021-07-01  411200.0\n",
       "2021-10-01  423600.0\n",
       "2022-01-01  428700.0"
      ]
     },
     "execution_count": 17,
     "metadata": {},
     "output_type": "execute_result"
    }
   ],
   "source": [
    "n=len(df)\n",
    "train_df=df[0:int(n*0.7)]\n",
    "val_df=df[int(n*0.7):int(n*0.9)]\n",
    "test_df=df[int(n*0.9):]\n",
    "num_features=df.shape[1]\n",
    "test_df[-3:]\n"
   ]
  },
  {
   "cell_type": "markdown",
   "id": "29a2b737",
   "metadata": {
    "papermill": {
     "duration": 0.008761,
     "end_time": "2022-07-11T03:35:02.710127",
     "exception": false,
     "start_time": "2022-07-11T03:35:02.701366",
     "status": "completed"
    },
    "tags": []
   },
   "source": [
    "###Normalize the data\n",
    "It is importnat to scale features before training a neural network. Normalization=subtract mean from data and divide by  standard deviation.\n",
    "Normalization is done only using the training data to preven peeking into validation or test data."
   ]
  },
  {
   "cell_type": "code",
   "execution_count": 18,
   "id": "5385e45a",
   "metadata": {
    "execution": {
     "iopub.execute_input": "2022-07-11T03:35:02.730606Z",
     "iopub.status.busy": "2022-07-11T03:35:02.729839Z",
     "iopub.status.idle": "2022-07-11T03:35:02.739057Z",
     "shell.execute_reply": "2022-07-11T03:35:02.737820Z"
    },
    "papermill": {
     "duration": 0.022151,
     "end_time": "2022-07-11T03:35:02.741237",
     "exception": false,
     "start_time": "2022-07-11T03:35:02.719086",
     "status": "completed"
    },
    "tags": []
   },
   "outputs": [
    {
     "name": "stdout",
     "output_type": "stream",
     "text": [
      "85887.27272727272\n",
      "54354.58241686483\n"
     ]
    }
   ],
   "source": [
    "train_mean=train_df['MSPUS'].mean()\n",
    "train_std=train_df['MSPUS'].std()\n",
    "\n",
    "train_df=(train_df-train_mean)/train_std\n",
    "val_df=(val_df-train_mean)/train_std\n",
    "test_df=(test_df-train_mean)/train_std\n",
    "\n",
    "print(train_mean)\n",
    "print(train_std)"
   ]
  },
  {
   "cell_type": "code",
   "execution_count": 19,
   "id": "1312eb71",
   "metadata": {
    "execution": {
     "iopub.execute_input": "2022-07-11T03:35:02.761221Z",
     "iopub.status.busy": "2022-07-11T03:35:02.760806Z",
     "iopub.status.idle": "2022-07-11T03:35:02.901721Z",
     "shell.execute_reply": "2022-07-11T03:35:02.900868Z"
    },
    "papermill": {
     "duration": 0.153605,
     "end_time": "2022-07-11T03:35:02.903952",
     "exception": false,
     "start_time": "2022-07-11T03:35:02.750347",
     "status": "completed"
    },
    "tags": []
   },
   "outputs": [
    {
     "data": {
      "image/png": "[encoded data removed]",
      "text/plain": [
       "<Figure size 864x432 with 1 Axes>"
      ]
     },
     "metadata": {
      "needs_background": "light"
     },
     "output_type": "display_data"
    }
   ],
   "source": [
    "# Check the distribution of price feature. This code is useful even if data has more features\n",
    "df_std=(df-train_mean)/train_std\n",
    "df_std=df_std.melt(var_name='Column',value_name='Normalized')\n",
    "plt.figure(figsize=(12,6))\n",
    "ax=sns.violinplot(x='Column',y ='Normalized',data=df_std)\n"
   ]
  },
  {
   "cell_type": "markdown",
   "id": "d7342404",
   "metadata": {
    "papermill": {
     "duration": 0.009682,
     "end_time": "2022-07-11T03:35:02.923294",
     "exception": false,
     "start_time": "2022-07-11T03:35:02.913612",
     "status": "completed"
    },
    "tags": []
   },
   "source": [
    "Windowing Data\n",
    "We will use window of consecutive samples from the data to predict multiple time point in future.\n",
    "Create WindowGenerator class to create windows as required.\n",
    "This class makes winodws of trainaing, validation and test Dataframes. The data will be converted to tf.data.Dataset of windows."
   ]
  },
  {
   "cell_type": "code",
   "execution_count": 20,
   "id": "8129a547",
   "metadata": {
    "execution": {
     "iopub.execute_input": "2022-07-11T03:35:02.945296Z",
     "iopub.status.busy": "2022-07-11T03:35:02.944580Z",
     "iopub.status.idle": "2022-07-11T03:35:02.951079Z",
     "shell.execute_reply": "2022-07-11T03:35:02.950249Z"
    },
    "papermill": {
     "duration": 0.020119,
     "end_time": "2022-07-11T03:35:02.953144",
     "exception": false,
     "start_time": "2022-07-11T03:35:02.933025",
     "status": "completed"
    },
    "tags": []
   },
   "outputs": [],
   "source": [
    "\n",
    "# make windowed data using past values and future labels with shift parameter\n",
    "def windowed_dataset(series, batch_size, n_past=10, n_future=10, shift=1):\n",
    "    ds = tf.data.Dataset.from_tensor_slices(series)\n",
    "    ds = ds.window(size=n_past + n_future, shift=shift, drop_remainder=True)\n",
    "    ds = ds.flat_map(lambda w: w.batch(n_past + n_future))\n",
    "    ds = ds.map(lambda w: (w[:n_past], w[n_past:]))\n",
    "    return ds.batch(batch_size).prefetch(1)"
   ]
  },
  {
   "cell_type": "code",
   "execution_count": 21,
   "id": "8f09af98",
   "metadata": {
    "execution": {
     "iopub.execute_input": "2022-07-11T03:35:02.975185Z",
     "iopub.status.busy": "2022-07-11T03:35:02.973962Z",
     "iopub.status.idle": "2022-07-11T03:35:03.152908Z",
     "shell.execute_reply": "2022-07-11T03:35:03.151588Z"
    },
    "papermill": {
     "duration": 0.192757,
     "end_time": "2022-07-11T03:35:03.155627",
     "exception": false,
     "start_time": "2022-07-11T03:35:02.962870",
     "status": "completed"
    },
    "tags": []
   },
   "outputs": [
    {
     "name": "stderr",
     "output_type": "stream",
     "text": [
      "2022-07-11 03:35:03.003109: I tensorflow/core/common_runtime/process_util.cc:146] Creating new thread pool with default inter op setting: 2. Tune using inter_op_parallelism_threads for best performance.\n"
     ]
    }
   ],
   "source": [
    "# Convert data into train, validation and test set to windowed dataset\n",
    "train_set = windowed_dataset(series=train_df, batch_size=32, n_past=10, n_future=10,shift=1)\n",
    "valid_set = windowed_dataset(series=val_df, batch_size=32,\n",
    "                                 n_past=10, n_future=10,\n",
    "                                 shift=1)\n",
    "test_set = windowed_dataset(series=test_df, batch_size=32,\n",
    "                                 n_past=10, n_future=10,\n",
    "                                 shift=1)"
   ]
  },
  {
   "cell_type": "code",
   "execution_count": 22,
   "id": "b288726f",
   "metadata": {
    "execution": {
     "iopub.execute_input": "2022-07-11T03:35:03.177382Z",
     "iopub.status.busy": "2022-07-11T03:35:03.176955Z",
     "iopub.status.idle": "2022-07-11T03:35:03.184109Z",
     "shell.execute_reply": "2022-07-11T03:35:03.182806Z"
    },
    "papermill": {
     "duration": 0.020754,
     "end_time": "2022-07-11T03:35:03.186336",
     "exception": false,
     "start_time": "2022-07-11T03:35:03.165582",
     "status": "completed"
    },
    "tags": []
   },
   "outputs": [
    {
     "data": {
      "text/plain": [
       "(TensorSpec(shape=(None, None, 1), dtype=tf.float64, name=None),\n",
       " TensorSpec(shape=(None, None, 1), dtype=tf.float64, name=None))"
      ]
     },
     "execution_count": 22,
     "metadata": {},
     "output_type": "execute_result"
    }
   ],
   "source": [
    "# Check shape of windowed data.\n",
    "train_set.element_spec"
   ]
  },
  {
   "cell_type": "code",
   "execution_count": 23,
   "id": "9c0595f8",
   "metadata": {
    "execution": {
     "iopub.execute_input": "2022-07-11T03:35:03.208731Z",
     "iopub.status.busy": "2022-07-11T03:35:03.207933Z",
     "iopub.status.idle": "2022-07-11T03:35:03.312082Z",
     "shell.execute_reply": "2022-07-11T03:35:03.311327Z"
    },
    "papermill": {
     "duration": 0.11829,
     "end_time": "2022-07-11T03:35:03.315013",
     "exception": false,
     "start_time": "2022-07-11T03:35:03.196723",
     "status": "completed"
    },
    "tags": []
   },
   "outputs": [
    {
     "name": "stdout",
     "output_type": "stream",
     "text": [
      "Inputs shape (batch, time, features): (32, 10, 1)\n",
      "Labels shape (batch, time, features): (32, 10, 1)\n"
     ]
    },
    {
     "name": "stderr",
     "output_type": "stream",
     "text": [
      "2022-07-11 03:35:03.249863: I tensorflow/compiler/mlir/mlir_graph_optimization_pass.cc:185] None of the MLIR Optimization Passes are enabled (registered 2)\n"
     ]
    }
   ],
   "source": [
    "# This data is batched into 32 examples of 10 datapoint of 1 feature(MSUPS)\n",
    "# As we are trying to predict next 10 prices, the lable will also have same shape\n",
    "for example_inputs, example_labels in train_set.take(1):\n",
    "  print(f'Inputs shape (batch, time, features): {example_inputs.shape}')\n",
    "  print(f'Labels shape (batch, time, features): {example_labels.shape}')"
   ]
  },
  {
   "cell_type": "code",
   "execution_count": 24,
   "id": "a905f7ad",
   "metadata": {
    "execution": {
     "iopub.execute_input": "2022-07-11T03:35:03.337314Z",
     "iopub.status.busy": "2022-07-11T03:35:03.336899Z",
     "iopub.status.idle": "2022-07-11T03:35:03.391855Z",
     "shell.execute_reply": "2022-07-11T03:35:03.389995Z"
    },
    "papermill": {
     "duration": 0.068662,
     "end_time": "2022-07-11T03:35:03.393721",
     "exception": true,
     "start_time": "2022-07-11T03:35:03.325059",
     "status": "failed"
    },
    "tags": []
   },
   "outputs": [
    {
     "name": "stdout",
     "output_type": "stream",
     "text": [
      "(<tf.Tensor: shape=(32, 10, 1), dtype=float64, numpy=\n",
      "array([[[-1.25265009],\n",
      "        [-1.24897055],\n",
      "        [-1.25081032],\n",
      "        [-1.23977169],\n",
      "        [-1.23977169],\n",
      "        [-1.23241261],\n",
      "        [-1.23241261],\n",
      "        [-1.22321375],\n",
      "        [-1.20849558],\n",
      "        [-1.21585467]],\n",
      "\n",
      "       [[-1.24897055],\n",
      "        [-1.25081032],\n",
      "        [-1.23977169],\n",
      "        [-1.23977169],\n",
      "        [-1.23241261],\n",
      "        [-1.23241261],\n",
      "        [-1.22321375],\n",
      "        [-1.20849558],\n",
      "        [-1.21585467],\n",
      "        [-1.20849558]],\n",
      "\n",
      "       [[-1.25081032],\n",
      "        [-1.23977169],\n",
      "        [-1.23977169],\n",
      "        [-1.23241261],\n",
      "        [-1.23241261],\n",
      "        [-1.22321375],\n",
      "        [-1.20849558],\n",
      "        [-1.21585467],\n",
      "        [-1.20849558],\n",
      "        [-1.20665581]],\n",
      "\n",
      "       [[-1.23977169],\n",
      "        [-1.23977169],\n",
      "        [-1.23241261],\n",
      "        [-1.23241261],\n",
      "        [-1.22321375],\n",
      "        [-1.20849558],\n",
      "        [-1.21585467],\n",
      "        [-1.20849558],\n",
      "        [-1.20665581],\n",
      "        [-1.19377741]],\n",
      "\n",
      "       [[-1.23977169],\n",
      "        [-1.23241261],\n",
      "        [-1.23241261],\n",
      "        [-1.22321375],\n",
      "        [-1.20849558],\n",
      "        [-1.21585467],\n",
      "        [-1.20849558],\n",
      "        [-1.20665581],\n",
      "        [-1.19377741],\n",
      "        [-1.17353993]],\n",
      "\n",
      "       [[-1.23241261],\n",
      "        [-1.23241261],\n",
      "        [-1.22321375],\n",
      "        [-1.20849558],\n",
      "        [-1.21585467],\n",
      "        [-1.20849558],\n",
      "        [-1.20665581],\n",
      "        [-1.19377741],\n",
      "        [-1.17353993],\n",
      "        [-1.18457856]],\n",
      "\n",
      "       [[-1.23241261],\n",
      "        [-1.22321375],\n",
      "        [-1.20849558],\n",
      "        [-1.21585467],\n",
      "        [-1.20849558],\n",
      "        [-1.20665581],\n",
      "        [-1.19377741],\n",
      "        [-1.17353993],\n",
      "        [-1.18457856],\n",
      "        [-1.18641833]],\n",
      "\n",
      "       [[-1.22321375],\n",
      "        [-1.20849558],\n",
      "        [-1.21585467],\n",
      "        [-1.20849558],\n",
      "        [-1.20665581],\n",
      "        [-1.19377741],\n",
      "        [-1.17353993],\n",
      "        [-1.18457856],\n",
      "        [-1.18641833],\n",
      "        [-1.16986039]],\n",
      "\n",
      "       [[-1.20849558],\n",
      "        [-1.21585467],\n",
      "        [-1.20849558],\n",
      "        [-1.20665581],\n",
      "        [-1.19377741],\n",
      "        [-1.17353993],\n",
      "        [-1.18457856],\n",
      "        [-1.18641833],\n",
      "        [-1.16986039],\n",
      "        [-1.15146267]],\n",
      "\n",
      "       [[-1.21585467],\n",
      "        [-1.20849558],\n",
      "        [-1.20665581],\n",
      "        [-1.19377741],\n",
      "        [-1.17353993],\n",
      "        [-1.18457856],\n",
      "        [-1.18641833],\n",
      "        [-1.16986039],\n",
      "        [-1.15146267],\n",
      "        [-1.16618084]],\n",
      "\n",
      "       [[-1.20849558],\n",
      "        [-1.20665581],\n",
      "        [-1.19377741],\n",
      "        [-1.17353993],\n",
      "        [-1.18457856],\n",
      "        [-1.18641833],\n",
      "        [-1.16986039],\n",
      "        [-1.15146267],\n",
      "        [-1.16618084],\n",
      "        [-1.15882176]],\n",
      "\n",
      "       [[-1.20665581],\n",
      "        [-1.19377741],\n",
      "        [-1.17353993],\n",
      "        [-1.18457856],\n",
      "        [-1.18641833],\n",
      "        [-1.16986039],\n",
      "        [-1.15146267],\n",
      "        [-1.16618084],\n",
      "        [-1.15882176],\n",
      "        [-1.14042404]],\n",
      "\n",
      "       [[-1.19377741],\n",
      "        [-1.17353993],\n",
      "        [-1.18457856],\n",
      "        [-1.18641833],\n",
      "        [-1.16986039],\n",
      "        [-1.15146267],\n",
      "        [-1.16618084],\n",
      "        [-1.15882176],\n",
      "        [-1.14042404],\n",
      "        [-1.12202633]],\n",
      "\n",
      "       [[-1.17353993],\n",
      "        [-1.18457856],\n",
      "        [-1.18641833],\n",
      "        [-1.16986039],\n",
      "        [-1.15146267],\n",
      "        [-1.16618084],\n",
      "        [-1.15882176],\n",
      "        [-1.14042404],\n",
      "        [-1.12202633],\n",
      "        [-1.1238661 ]],\n",
      "\n",
      "       [[-1.18457856],\n",
      "        [-1.18641833],\n",
      "        [-1.16986039],\n",
      "        [-1.15146267],\n",
      "        [-1.16618084],\n",
      "        [-1.15882176],\n",
      "        [-1.14042404],\n",
      "        [-1.12202633],\n",
      "        [-1.1238661 ],\n",
      "        [-1.10914793]],\n",
      "\n",
      "       [[-1.18641833],\n",
      "        [-1.16986039],\n",
      "        [-1.15146267],\n",
      "        [-1.16618084],\n",
      "        [-1.15882176],\n",
      "        [-1.14042404],\n",
      "        [-1.12202633],\n",
      "        [-1.1238661 ],\n",
      "        [-1.10914793],\n",
      "        [-1.10730816]],\n",
      "\n",
      "       [[-1.16986039],\n",
      "        [-1.15146267],\n",
      "        [-1.16618084],\n",
      "        [-1.15882176],\n",
      "        [-1.14042404],\n",
      "        [-1.12202633],\n",
      "        [-1.1238661 ],\n",
      "        [-1.10914793],\n",
      "        [-1.10730816],\n",
      "        [-1.10362862]],\n",
      "\n",
      "       [[-1.15146267],\n",
      "        [-1.16618084],\n",
      "        [-1.15882176],\n",
      "        [-1.14042404],\n",
      "        [-1.12202633],\n",
      "        [-1.1238661 ],\n",
      "        [-1.10914793],\n",
      "        [-1.10730816],\n",
      "        [-1.10362862],\n",
      "        [-1.10362862]],\n",
      "\n",
      "       [[-1.16618084],\n",
      "        [-1.15882176],\n",
      "        [-1.14042404],\n",
      "        [-1.12202633],\n",
      "        [-1.1238661 ],\n",
      "        [-1.10914793],\n",
      "        [-1.10730816],\n",
      "        [-1.10362862],\n",
      "        [-1.10362862],\n",
      "        [-1.12202633]],\n",
      "\n",
      "       [[-1.15882176],\n",
      "        [-1.14042404],\n",
      "        [-1.12202633],\n",
      "        [-1.1238661 ],\n",
      "        [-1.10914793],\n",
      "        [-1.10730816],\n",
      "        [-1.10362862],\n",
      "        [-1.10362862],\n",
      "        [-1.12202633],\n",
      "        [-1.14042404]],\n",
      "\n",
      "       [[-1.14042404],\n",
      "        [-1.12202633],\n",
      "        [-1.1238661 ],\n",
      "        [-1.10914793],\n",
      "        [-1.10730816],\n",
      "        [-1.10362862],\n",
      "        [-1.10362862],\n",
      "        [-1.12202633],\n",
      "        [-1.14042404],\n",
      "        [-1.13122519]],\n",
      "\n",
      "       [[-1.12202633],\n",
      "        [-1.1238661 ],\n",
      "        [-1.10914793],\n",
      "        [-1.10730816],\n",
      "        [-1.10362862],\n",
      "        [-1.10362862],\n",
      "        [-1.12202633],\n",
      "        [-1.14042404],\n",
      "        [-1.13122519],\n",
      "        [-1.15698199]],\n",
      "\n",
      "       [[-1.1238661 ],\n",
      "        [-1.10914793],\n",
      "        [-1.10730816],\n",
      "        [-1.10362862],\n",
      "        [-1.10362862],\n",
      "        [-1.12202633],\n",
      "        [-1.14042404],\n",
      "        [-1.13122519],\n",
      "        [-1.15698199],\n",
      "        [-1.16434107]],\n",
      "\n",
      "       [[-1.10914793],\n",
      "        [-1.10730816],\n",
      "        [-1.10362862],\n",
      "        [-1.10362862],\n",
      "        [-1.12202633],\n",
      "        [-1.14042404],\n",
      "        [-1.13122519],\n",
      "        [-1.15698199],\n",
      "        [-1.16434107],\n",
      "        [-1.13306496]],\n",
      "\n",
      "       [[-1.10730816],\n",
      "        [-1.10362862],\n",
      "        [-1.10362862],\n",
      "        [-1.12202633],\n",
      "        [-1.14042404],\n",
      "        [-1.13122519],\n",
      "        [-1.15698199],\n",
      "        [-1.16434107],\n",
      "        [-1.13306496],\n",
      "        [-1.10546839]],\n",
      "\n",
      "       [[-1.10362862],\n",
      "        [-1.10362862],\n",
      "        [-1.12202633],\n",
      "        [-1.14042404],\n",
      "        [-1.13122519],\n",
      "        [-1.15698199],\n",
      "        [-1.16434107],\n",
      "        [-1.13306496],\n",
      "        [-1.10546839],\n",
      "        [-1.11466725]],\n",
      "\n",
      "       [[-1.10362862],\n",
      "        [-1.12202633],\n",
      "        [-1.14042404],\n",
      "        [-1.13122519],\n",
      "        [-1.15698199],\n",
      "        [-1.16434107],\n",
      "        [-1.13306496],\n",
      "        [-1.10546839],\n",
      "        [-1.11466725],\n",
      "        [-1.1109877 ]],\n",
      "\n",
      "       [[-1.12202633],\n",
      "        [-1.14042404],\n",
      "        [-1.13122519],\n",
      "        [-1.15698199],\n",
      "        [-1.16434107],\n",
      "        [-1.13306496],\n",
      "        [-1.10546839],\n",
      "        [-1.11466725],\n",
      "        [-1.1109877 ],\n",
      "        [-1.09810931]],\n",
      "\n",
      "       [[-1.14042404],\n",
      "        [-1.13122519],\n",
      "        [-1.15698199],\n",
      "        [-1.16434107],\n",
      "        [-1.13306496],\n",
      "        [-1.10546839],\n",
      "        [-1.11466725],\n",
      "        [-1.1109877 ],\n",
      "        [-1.09810931],\n",
      "        [-1.08707068]],\n",
      "\n",
      "       [[-1.13122519],\n",
      "        [-1.15698199],\n",
      "        [-1.16434107],\n",
      "        [-1.13306496],\n",
      "        [-1.10546839],\n",
      "        [-1.11466725],\n",
      "        [-1.1109877 ],\n",
      "        [-1.09810931],\n",
      "        [-1.08707068],\n",
      "        [-1.06683319]],\n",
      "\n",
      "       [[-1.15698199],\n",
      "        [-1.16434107],\n",
      "        [-1.13306496],\n",
      "        [-1.10546839],\n",
      "        [-1.11466725],\n",
      "        [-1.1109877 ],\n",
      "        [-1.09810931],\n",
      "        [-1.08707068],\n",
      "        [-1.06683319],\n",
      "        [-1.04291617]],\n",
      "\n",
      "       [[-1.16434107],\n",
      "        [-1.13306496],\n",
      "        [-1.10546839],\n",
      "        [-1.11466725],\n",
      "        [-1.1109877 ],\n",
      "        [-1.09810931],\n",
      "        [-1.08707068],\n",
      "        [-1.06683319],\n",
      "        [-1.04291617],\n",
      "        [-1.02451845]]])>, <tf.Tensor: shape=(32, 10, 1), dtype=float64, numpy=\n",
      "array([[[-1.20849558],\n",
      "        [-1.20665581],\n",
      "        [-1.19377741],\n",
      "        [-1.17353993],\n",
      "        [-1.18457856],\n",
      "        [-1.18641833],\n",
      "        [-1.16986039],\n",
      "        [-1.15146267],\n",
      "        [-1.16618084],\n",
      "        [-1.15882176]],\n",
      "\n",
      "       [[-1.20665581],\n",
      "        [-1.19377741],\n",
      "        [-1.17353993],\n",
      "        [-1.18457856],\n",
      "        [-1.18641833],\n",
      "        [-1.16986039],\n",
      "        [-1.15146267],\n",
      "        [-1.16618084],\n",
      "        [-1.15882176],\n",
      "        [-1.14042404]],\n",
      "\n",
      "       [[-1.19377741],\n",
      "        [-1.17353993],\n",
      "        [-1.18457856],\n",
      "        [-1.18641833],\n",
      "        [-1.16986039],\n",
      "        [-1.15146267],\n",
      "        [-1.16618084],\n",
      "        [-1.15882176],\n",
      "        [-1.14042404],\n",
      "        [-1.12202633]],\n",
      "\n",
      "       [[-1.17353993],\n",
      "        [-1.18457856],\n",
      "        [-1.18641833],\n",
      "        [-1.16986039],\n",
      "        [-1.15146267],\n",
      "        [-1.16618084],\n",
      "        [-1.15882176],\n",
      "        [-1.14042404],\n",
      "        [-1.12202633],\n",
      "        [-1.1238661 ]],\n",
      "\n",
      "       [[-1.18457856],\n",
      "        [-1.18641833],\n",
      "        [-1.16986039],\n",
      "        [-1.15146267],\n",
      "        [-1.16618084],\n",
      "        [-1.15882176],\n",
      "        [-1.14042404],\n",
      "        [-1.12202633],\n",
      "        [-1.1238661 ],\n",
      "        [-1.10914793]],\n",
      "\n",
      "       [[-1.18641833],\n",
      "        [-1.16986039],\n",
      "        [-1.15146267],\n",
      "        [-1.16618084],\n",
      "        [-1.15882176],\n",
      "        [-1.14042404],\n",
      "        [-1.12202633],\n",
      "        [-1.1238661 ],\n",
      "        [-1.10914793],\n",
      "        [-1.10730816]],\n",
      "\n",
      "       [[-1.16986039],\n",
      "        [-1.15146267],\n",
      "        [-1.16618084],\n",
      "        [-1.15882176],\n",
      "        [-1.14042404],\n",
      "        [-1.12202633],\n",
      "        [-1.1238661 ],\n",
      "        [-1.10914793],\n",
      "        [-1.10730816],\n",
      "        [-1.10362862]],\n",
      "\n",
      "       [[-1.15146267],\n",
      "        [-1.16618084],\n",
      "        [-1.15882176],\n",
      "        [-1.14042404],\n",
      "        [-1.12202633],\n",
      "        [-1.1238661 ],\n",
      "        [-1.10914793],\n",
      "        [-1.10730816],\n",
      "        [-1.10362862],\n",
      "        [-1.10362862]],\n",
      "\n",
      "       [[-1.16618084],\n",
      "        [-1.15882176],\n",
      "        [-1.14042404],\n",
      "        [-1.12202633],\n",
      "        [-1.1238661 ],\n",
      "        [-1.10914793],\n",
      "        [-1.10730816],\n",
      "        [-1.10362862],\n",
      "        [-1.10362862],\n",
      "        [-1.12202633]],\n",
      "\n",
      "       [[-1.15882176],\n",
      "        [-1.14042404],\n",
      "        [-1.12202633],\n",
      "        [-1.1238661 ],\n",
      "        [-1.10914793],\n",
      "        [-1.10730816],\n",
      "        [-1.10362862],\n",
      "        [-1.10362862],\n",
      "        [-1.12202633],\n",
      "        [-1.14042404]],\n",
      "\n",
      "       [[-1.14042404],\n",
      "        [-1.12202633],\n",
      "        [-1.1238661 ],\n",
      "        [-1.10914793],\n",
      "        [-1.10730816],\n",
      "        [-1.10362862],\n",
      "        [-1.10362862],\n",
      "        [-1.12202633],\n",
      "        [-1.14042404],\n",
      "        [-1.13122519]],\n",
      "\n",
      "       [[-1.12202633],\n",
      "        [-1.1238661 ],\n",
      "        [-1.10914793],\n",
      "        [-1.10730816],\n",
      "        [-1.10362862],\n",
      "        [-1.10362862],\n",
      "        [-1.12202633],\n",
      "        [-1.14042404],\n",
      "        [-1.13122519],\n",
      "        [-1.15698199]],\n",
      "\n",
      "       [[-1.1238661 ],\n",
      "        [-1.10914793],\n",
      "        [-1.10730816],\n",
      "        [-1.10362862],\n",
      "        [-1.10362862],\n",
      "        [-1.12202633],\n",
      "        [-1.14042404],\n",
      "        [-1.13122519],\n",
      "        [-1.15698199],\n",
      "        [-1.16434107]],\n",
      "\n",
      "       [[-1.10914793],\n",
      "        [-1.10730816],\n",
      "        [-1.10362862],\n",
      "        [-1.10362862],\n",
      "        [-1.12202633],\n",
      "        [-1.14042404],\n",
      "        [-1.13122519],\n",
      "        [-1.15698199],\n",
      "        [-1.16434107],\n",
      "        [-1.13306496]],\n",
      "\n",
      "       [[-1.10730816],\n",
      "        [-1.10362862],\n",
      "        [-1.10362862],\n",
      "        [-1.12202633],\n",
      "        [-1.14042404],\n",
      "        [-1.13122519],\n",
      "        [-1.15698199],\n",
      "        [-1.16434107],\n",
      "        [-1.13306496],\n",
      "        [-1.10546839]],\n",
      "\n",
      "       [[-1.10362862],\n",
      "        [-1.10362862],\n",
      "        [-1.12202633],\n",
      "        [-1.14042404],\n",
      "        [-1.13122519],\n",
      "        [-1.15698199],\n",
      "        [-1.16434107],\n",
      "        [-1.13306496],\n",
      "        [-1.10546839],\n",
      "        [-1.11466725]],\n",
      "\n",
      "       [[-1.10362862],\n",
      "        [-1.12202633],\n",
      "        [-1.14042404],\n",
      "        [-1.13122519],\n",
      "        [-1.15698199],\n",
      "        [-1.16434107],\n",
      "        [-1.13306496],\n",
      "        [-1.10546839],\n",
      "        [-1.11466725],\n",
      "        [-1.1109877 ]],\n",
      "\n",
      "       [[-1.12202633],\n",
      "        [-1.14042404],\n",
      "        [-1.13122519],\n",
      "        [-1.15698199],\n",
      "        [-1.16434107],\n",
      "        [-1.13306496],\n",
      "        [-1.10546839],\n",
      "        [-1.11466725],\n",
      "        [-1.1109877 ],\n",
      "        [-1.09810931]],\n",
      "\n",
      "       [[-1.14042404],\n",
      "        [-1.13122519],\n",
      "        [-1.15698199],\n",
      "        [-1.16434107],\n",
      "        [-1.13306496],\n",
      "        [-1.10546839],\n",
      "        [-1.11466725],\n",
      "        [-1.1109877 ],\n",
      "        [-1.09810931],\n",
      "        [-1.08707068]],\n",
      "\n",
      "       [[-1.13122519],\n",
      "        [-1.15698199],\n",
      "        [-1.16434107],\n",
      "        [-1.13306496],\n",
      "        [-1.10546839],\n",
      "        [-1.11466725],\n",
      "        [-1.1109877 ],\n",
      "        [-1.09810931],\n",
      "        [-1.08707068],\n",
      "        [-1.06683319]],\n",
      "\n",
      "       [[-1.15698199],\n",
      "        [-1.16434107],\n",
      "        [-1.13306496],\n",
      "        [-1.10546839],\n",
      "        [-1.11466725],\n",
      "        [-1.1109877 ],\n",
      "        [-1.09810931],\n",
      "        [-1.08707068],\n",
      "        [-1.06683319],\n",
      "        [-1.04291617]],\n",
      "\n",
      "       [[-1.16434107],\n",
      "        [-1.13306496],\n",
      "        [-1.10546839],\n",
      "        [-1.11466725],\n",
      "        [-1.1109877 ],\n",
      "        [-1.09810931],\n",
      "        [-1.08707068],\n",
      "        [-1.06683319],\n",
      "        [-1.04291617],\n",
      "        [-1.02451845]],\n",
      "\n",
      "       [[-1.13306496],\n",
      "        [-1.10546839],\n",
      "        [-1.11466725],\n",
      "        [-1.1109877 ],\n",
      "        [-1.09810931],\n",
      "        [-1.08707068],\n",
      "        [-1.06683319],\n",
      "        [-1.04291617],\n",
      "        [-1.02451845],\n",
      "        [-0.97852417]],\n",
      "\n",
      "       [[-1.10546839],\n",
      "        [-1.11466725],\n",
      "        [-1.1109877 ],\n",
      "        [-1.09810931],\n",
      "        [-1.08707068],\n",
      "        [-1.06683319],\n",
      "        [-1.04291617],\n",
      "        [-1.02451845],\n",
      "        [-0.97852417],\n",
      "        [-0.963806  ]],\n",
      "\n",
      "       [[-1.11466725],\n",
      "        [-1.1109877 ],\n",
      "        [-1.09810931],\n",
      "        [-1.08707068],\n",
      "        [-1.06683319],\n",
      "        [-1.04291617],\n",
      "        [-1.02451845],\n",
      "        [-0.97852417],\n",
      "        [-0.963806  ],\n",
      "        [-0.95460714]],\n",
      "\n",
      "       [[-1.1109877 ],\n",
      "        [-1.09810931],\n",
      "        [-1.08707068],\n",
      "        [-1.06683319],\n",
      "        [-1.04291617],\n",
      "        [-1.02451845],\n",
      "        [-0.97852417],\n",
      "        [-0.963806  ],\n",
      "        [-0.95460714],\n",
      "        [-0.93252989]],\n",
      "\n",
      "       [[-1.09810931],\n",
      "        [-1.08707068],\n",
      "        [-1.06683319],\n",
      "        [-1.04291617],\n",
      "        [-1.02451845],\n",
      "        [-0.97852417],\n",
      "        [-0.963806  ],\n",
      "        [-0.95460714],\n",
      "        [-0.93252989],\n",
      "        [-0.9251708 ]],\n",
      "\n",
      "       [[-1.08707068],\n",
      "        [-1.06683319],\n",
      "        [-1.04291617],\n",
      "        [-1.02451845],\n",
      "        [-0.97852417],\n",
      "        [-0.963806  ],\n",
      "        [-0.95460714],\n",
      "        [-0.93252989],\n",
      "        [-0.9251708 ],\n",
      "        [-0.91413218]],\n",
      "\n",
      "       [[-1.06683319],\n",
      "        [-1.04291617],\n",
      "        [-1.02451845],\n",
      "        [-0.97852417],\n",
      "        [-0.963806  ],\n",
      "        [-0.95460714],\n",
      "        [-0.93252989],\n",
      "        [-0.9251708 ],\n",
      "        [-0.91413218],\n",
      "        [-0.89573446]],\n",
      "\n",
      "       [[-1.04291617],\n",
      "        [-1.02451845],\n",
      "        [-0.97852417],\n",
      "        [-0.963806  ],\n",
      "        [-0.95460714],\n",
      "        [-0.93252989],\n",
      "        [-0.9251708 ],\n",
      "        [-0.91413218],\n",
      "        [-0.89573446],\n",
      "        [-0.87917652]],\n",
      "\n",
      "       [[-1.02451845],\n",
      "        [-0.97852417],\n",
      "        [-0.963806  ],\n",
      "        [-0.95460714],\n",
      "        [-0.93252989],\n",
      "        [-0.9251708 ],\n",
      "        [-0.91413218],\n",
      "        [-0.89573446],\n",
      "        [-0.87917652],\n",
      "        [-0.86261858]],\n",
      "\n",
      "       [[-0.97852417],\n",
      "        [-0.963806  ],\n",
      "        [-0.95460714],\n",
      "        [-0.93252989],\n",
      "        [-0.9251708 ],\n",
      "        [-0.91413218],\n",
      "        [-0.89573446],\n",
      "        [-0.87917652],\n",
      "        [-0.86261858],\n",
      "        [-0.86629812]]])>)\n"
     ]
    },
    {
     "ename": "SystemExit",
     "evalue": "",
     "output_type": "error",
     "traceback": [
      "An exception has occurred, use %tb to see the full traceback.\n",
      "\u001b[0;31mSystemExit\u001b[0m\n"
     ]
    },
    {
     "name": "stderr",
     "output_type": "stream",
     "text": [
      "/opt/conda/lib/python3.7/site-packages/IPython/core/interactiveshell.py:3560: UserWarning: To exit: use 'exit', 'quit', or Ctrl-D.\n",
      "  warn(\"To exit: use 'exit', 'quit', or Ctrl-D.\", stacklevel=1)\n"
     ]
    }
   ],
   "source": [
    "# Check 1 element in train data\n",
    "for element in train_set:\n",
    "  print(element)\n",
    "  import sys\n",
    "  sys.exit()"
   ]
  },
  {
   "cell_type": "code",
   "execution_count": null,
   "id": "bc393c36",
   "metadata": {
    "execution": {
     "iopub.execute_input": "2022-07-11T03:33:03.862994Z",
     "iopub.status.busy": "2022-07-11T03:33:03.862607Z",
     "iopub.status.idle": "2022-07-11T03:33:04.113082Z",
     "shell.execute_reply": "2022-07-11T03:33:04.111929Z",
     "shell.execute_reply.started": "2022-07-11T03:33:03.862955Z"
    },
    "papermill": {
     "duration": null,
     "end_time": null,
     "exception": null,
     "start_time": null,
     "status": "pending"
    },
    "tags": []
   },
   "outputs": [],
   "source": [
    "#Predict next 10 features based on past 10 features\n",
    "# Create sequential model\n",
    "model = tf.keras.models.Sequential([\n",
    "        tf.keras.layers.Input(shape = (10, 1)),\n",
    "        tf.keras.layers.LSTM(32, return_sequences=True),\n",
    "        #tf.keras.layers.Dense(512, activation='relu'),\n",
    "        tf.keras.layers.Dense(10)\n",
    "        \n",
    "    ])"
   ]
  },
  {
   "cell_type": "code",
   "execution_count": null,
   "id": "3af221c3",
   "metadata": {
    "execution": {
     "iopub.execute_input": "2022-07-11T03:33:08.192100Z",
     "iopub.status.busy": "2022-07-11T03:33:08.191674Z",
     "iopub.status.idle": "2022-07-11T03:33:08.198837Z",
     "shell.execute_reply": "2022-07-11T03:33:08.197596Z",
     "shell.execute_reply.started": "2022-07-11T03:33:08.192062Z"
    },
    "papermill": {
     "duration": null,
     "end_time": null,
     "exception": null,
     "start_time": null,
     "status": "pending"
    },
    "tags": []
   },
   "outputs": [],
   "source": [
    "model.summary()"
   ]
  },
  {
   "cell_type": "code",
   "execution_count": null,
   "id": "459ae7d4",
   "metadata": {
    "execution": {
     "iopub.execute_input": "2022-07-11T03:33:13.234206Z",
     "iopub.status.busy": "2022-07-11T03:33:13.233793Z",
     "iopub.status.idle": "2022-07-11T03:33:13.249353Z",
     "shell.execute_reply": "2022-07-11T03:33:13.248096Z",
     "shell.execute_reply.started": "2022-07-11T03:33:13.234177Z"
    },
    "papermill": {
     "duration": null,
     "end_time": null,
     "exception": null,
     "start_time": null,
     "status": "pending"
    },
    "tags": []
   },
   "outputs": [],
   "source": [
    "early_stopping = tf.keras.callbacks.EarlyStopping(monitor='val_loss', patience=3, restore_best_weights=True)\n",
    "cvlog=tf.keras.callbacks.CSVLogger('his.csv')\n",
    "model.compile(\n",
    "               loss=\"mae\", optimizer = tf.keras.optimizers.Adam(learning_rate=1e-5),metrics=[tf.metrics.MeanAbsoluteError()]\n",
    "    )"
   ]
  },
  {
   "cell_type": "code",
   "execution_count": null,
   "id": "6bfd292f",
   "metadata": {
    "execution": {
     "iopub.execute_input": "2022-07-11T03:33:16.636857Z",
     "iopub.status.busy": "2022-07-11T03:33:16.635642Z",
     "iopub.status.idle": "2022-07-11T03:33:22.641193Z",
     "shell.execute_reply": "2022-07-11T03:33:22.639962Z",
     "shell.execute_reply.started": "2022-07-11T03:33:16.636800Z"
    },
    "papermill": {
     "duration": null,
     "end_time": null,
     "exception": null,
     "start_time": null,
     "status": "pending"
    },
    "tags": []
   },
   "outputs": [],
   "source": [
    "history=model.fit(\n",
    "        train_set, epochs=20,validation_data=valid_set, callbacks=[ early_stopping, cvlog], verbose=1\n",
    "    )"
   ]
  },
  {
   "cell_type": "code",
   "execution_count": null,
   "id": "15c51d40",
   "metadata": {
    "execution": {
     "iopub.execute_input": "2022-07-11T03:33:30.980048Z",
     "iopub.status.busy": "2022-07-11T03:33:30.979620Z",
     "iopub.status.idle": "2022-07-11T03:33:30.996087Z",
     "shell.execute_reply": "2022-07-11T03:33:30.994738Z",
     "shell.execute_reply.started": "2022-07-11T03:33:30.980012Z"
    },
    "papermill": {
     "duration": null,
     "end_time": null,
     "exception": null,
     "start_time": null,
     "status": "pending"
    },
    "tags": []
   },
   "outputs": [],
   "source": [
    "import pandas as pd\n",
    "his = pd.read_csv('his.csv') \n",
    "his.head()"
   ]
  },
  {
   "cell_type": "code",
   "execution_count": null,
   "id": "ecbf0b8f",
   "metadata": {
    "execution": {
     "iopub.execute_input": "2022-07-11T03:33:34.282441Z",
     "iopub.status.busy": "2022-07-11T03:33:34.281065Z",
     "iopub.status.idle": "2022-07-11T03:33:34.287924Z",
     "shell.execute_reply": "2022-07-11T03:33:34.286903Z",
     "shell.execute_reply.started": "2022-07-11T03:33:34.282398Z"
    },
    "papermill": {
     "duration": null,
     "end_time": null,
     "exception": null,
     "start_time": null,
     "status": "pending"
    },
    "tags": []
   },
   "outputs": [],
   "source": [
    "def make_preds(model, input_data):\n",
    "  \"\"\"\n",
    "  Uses model to make predictions on input_data.\n",
    "\n",
    "  Parameters\n",
    "  ----------\n",
    "  model: trained model \n",
    "  input_data: windowed input data (same kind of data model was trained on)\n",
    "\n",
    "  Returns model predictions on input_data.\n",
    "  \"\"\"\n",
    "  forecast = model.predict(input_data)\n",
    "  return tf.squeeze(forecast) # return 1D array of predictions"
   ]
  },
  {
   "cell_type": "code",
   "execution_count": null,
   "id": "c727f667",
   "metadata": {
    "execution": {
     "iopub.execute_input": "2022-07-11T03:33:40.708417Z",
     "iopub.status.busy": "2022-07-11T03:33:40.708009Z",
     "iopub.status.idle": "2022-07-11T03:33:41.235184Z",
     "shell.execute_reply": "2022-07-11T03:33:41.234307Z",
     "shell.execute_reply.started": "2022-07-11T03:33:40.708381Z"
    },
    "papermill": {
     "duration": null,
     "end_time": null,
     "exception": null,
     "start_time": null,
     "status": "pending"
    },
    "tags": []
   },
   "outputs": [],
   "source": [
    "model_preds = make_preds(model,\n",
    "                           input_data=test_set)\n",
    "model_preds[:1]"
   ]
  },
  {
   "cell_type": "code",
   "execution_count": null,
   "id": "a1a344c4",
   "metadata": {
    "papermill": {
     "duration": null,
     "end_time": null,
     "exception": null,
     "start_time": null,
     "status": "pending"
    },
    "tags": []
   },
   "outputs": [],
   "source": [
    "# De standardize the data\n",
    "model_preds=(model_preds*train_std)+train_mean\n",
    "model_preds[:1]"
   ]
  }
 ],
 "metadata": {
  "kernelspec": {
   "display_name": "Python 3",
   "language": "python",
   "name": "python3"
  },
  "language_info": {
   "codemirror_mode": {
    "name": "ipython",
    "version": 3
   },
   "file_extension": ".py",
   "mimetype": "text/x-python",
   "name": "python",
   "nbconvert_exporter": "python",
   "pygments_lexer": "ipython3",
   "version": "3.7.12"
  },
  "papermill": {
   "default_parameters": {},
   "duration": 27.498917,
   "end_time": "2022-07-11T03:35:06.538957",
   "environment_variables": {},
   "exception": true,
   "input_path": "__notebook__.ipynb",
   "output_path": "__notebook__.ipynb",
   "parameters": {},
   "start_time": "2022-07-11T03:34:39.040040",
   "version": "2.3.4"
  }
 },
 "nbformat": 4,
 "nbformat_minor": 5
}
