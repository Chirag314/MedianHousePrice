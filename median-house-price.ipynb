{
 "cells": [
  {
   "cell_type": "code",
   "execution_count": 1,
   "id": "e385f1c1",
   "metadata": {
    "_cell_guid": "b1076dfc-b9ad-4769-8c92-a6c4dae69d19",
    "_uuid": "8f2839f25d086af736a60e9eeb907d3b93b6e0e5",
    "execution": {
     "iopub.execute_input": "2022-07-10T06:47:40.727411Z",
     "iopub.status.busy": "2022-07-10T06:47:40.726904Z",
     "iopub.status.idle": "2022-07-10T06:47:40.747315Z",
     "shell.execute_reply": "2022-07-10T06:47:40.746379Z"
    },
    "papermill": {
     "duration": 0.034913,
     "end_time": "2022-07-10T06:47:40.750390",
     "exception": false,
     "start_time": "2022-07-10T06:47:40.715477",
     "status": "completed"
    },
    "tags": []
   },
   "outputs": [
    {
     "name": "stdout",
     "output_type": "stream",
     "text": [
      "/kaggle/input/medianhouseprice/MSPUS.csv\n"
     ]
    }
   ],
   "source": [
    "# This Python 3 environment comes with many helpful analytics libraries installed\n",
    "# It is defined by the kaggle/python Docker image: https://github.com/kaggle/docker-python\n",
    "# For example, here's several helpful packages to load\n",
    "\n",
    "import numpy as np # linear algebra\n",
    "import pandas as pd # data processing, CSV file I/O (e.g. pd.read_csv)\n",
    "\n",
    "# Input data files are available in the read-only \"../input/\" directory\n",
    "# For example, running this (by clicking run or pressing Shift+Enter) will list all files under the input directory\n",
    "\n",
    "import os\n",
    "for dirname, _, filenames in os.walk('/kaggle/input'):\n",
    "    for filename in filenames:\n",
    "        print(os.path.join(dirname, filename))\n",
    "\n",
    "# You can write up to 20GB to the current directory (/kaggle/working/) that gets preserved as output when you create a version using \"Save & Run All\" \n",
    "# You can also write temporary files to /kaggle/temp/, but they won't be saved outside of the current session"
   ]
  },
  {
   "cell_type": "markdown",
   "id": "091561f3",
   "metadata": {
    "papermill": {
     "duration": 0.008246,
     "end_time": "2022-07-10T06:47:40.768863",
     "exception": false,
     "start_time": "2022-07-10T06:47:40.760617",
     "status": "completed"
    },
    "tags": []
   },
   "source": [
    "Reference:\n",
    "Tensorflow tutorials\n",
    "https://www.tensorflow.org/tutorials/structured_data/time_series#multi-step_models"
   ]
  },
  {
   "cell_type": "code",
   "execution_count": 2,
   "id": "15062205",
   "metadata": {
    "execution": {
     "iopub.execute_input": "2022-07-10T06:47:40.788530Z",
     "iopub.status.busy": "2022-07-10T06:47:40.787756Z",
     "iopub.status.idle": "2022-07-10T06:47:52.181302Z",
     "shell.execute_reply": "2022-07-10T06:47:52.179618Z"
    },
    "papermill": {
     "duration": 11.408389,
     "end_time": "2022-07-10T06:47:52.185957",
     "exception": false,
     "start_time": "2022-07-10T06:47:40.777568",
     "status": "completed"
    },
    "tags": []
   },
   "outputs": [],
   "source": [
    "import os\n",
    "import datetime\n",
    "import IPython\n",
    "import IPython.display\n",
    "import matplotlib as mpl\n",
    "import matplotlib.pyplot as plt\n",
    "import numpy as np\n",
    "import pandas as pd\n",
    "import seaborn as sns\n",
    "import tensorflow as tf\n",
    "\n",
    "mpl.rcParams['figure.figsize']=(8,6)\n",
    "mpl.rcParams['axes.grid']=False\n",
    "\n",
    "from scipy import stats\n",
    "from statsmodels.tsa.stattools import adfuller\n",
    "from statsmodels.tsa.stattools import adfuller,kpss\n",
    "from statsmodels.graphics.tsaplots import plot_acf,plot_pacf\n",
    "from statsmodels.tsa.seasonal import seasonal_decompose\n",
    "#from statsmodels.tsa.arima.model import ARIMA\n",
    "from statsmodels.tsa.statespace.sarimax import SARIMAX\n",
    "from tensorflow.keras.metrics import mean_absolute_percentage_error\n",
    "\n",
    "from keras.layers import *\n",
    "from sklearn.metrics import mean_absolute_error\n",
    "from keras.callbacks import EarlyStopping"
   ]
  },
  {
   "cell_type": "code",
   "execution_count": 3,
   "id": "2805dbdf",
   "metadata": {
    "execution": {
     "iopub.execute_input": "2022-07-10T06:47:52.214243Z",
     "iopub.status.busy": "2022-07-10T06:47:52.212775Z",
     "iopub.status.idle": "2022-07-10T06:47:52.241026Z",
     "shell.execute_reply": "2022-07-10T06:47:52.239791Z"
    },
    "papermill": {
     "duration": 0.044556,
     "end_time": "2022-07-10T06:47:52.243857",
     "exception": false,
     "start_time": "2022-07-10T06:47:52.199301",
     "status": "completed"
    },
    "tags": []
   },
   "outputs": [],
   "source": [
    "df=pd.read_csv('/kaggle/input/medianhouseprice/MSPUS.csv')"
   ]
  },
  {
   "cell_type": "code",
   "execution_count": 4,
   "id": "c8b5ef33",
   "metadata": {
    "execution": {
     "iopub.execute_input": "2022-07-10T06:47:52.265103Z",
     "iopub.status.busy": "2022-07-10T06:47:52.264354Z",
     "iopub.status.idle": "2022-07-10T06:47:52.272960Z",
     "shell.execute_reply": "2022-07-10T06:47:52.271842Z"
    },
    "papermill": {
     "duration": 0.023459,
     "end_time": "2022-07-10T06:47:52.275963",
     "exception": false,
     "start_time": "2022-07-10T06:47:52.252504",
     "status": "completed"
    },
    "tags": []
   },
   "outputs": [
    {
     "name": "stdout",
     "output_type": "stream",
     "text": [
      "237 2\n"
     ]
    }
   ],
   "source": [
    "rows,columns=df.shape[0],df.shape[1]\n",
    "print(rows,columns)"
   ]
  },
  {
   "cell_type": "code",
   "execution_count": 5,
   "id": "f1822e8d",
   "metadata": {
    "execution": {
     "iopub.execute_input": "2022-07-10T06:47:52.298206Z",
     "iopub.status.busy": "2022-07-10T06:47:52.296931Z",
     "iopub.status.idle": "2022-07-10T06:47:52.312416Z",
     "shell.execute_reply": "2022-07-10T06:47:52.311563Z"
    },
    "papermill": {
     "duration": 0.030367,
     "end_time": "2022-07-10T06:47:52.314978",
     "exception": false,
     "start_time": "2022-07-10T06:47:52.284611",
     "status": "completed"
    },
    "tags": []
   },
   "outputs": [],
   "source": [
    "#df['DATE']=pd.to_datetime(df['DATE'])\n",
    "df.set_index('DATE',inplace=True)"
   ]
  },
  {
   "cell_type": "code",
   "execution_count": 6,
   "id": "5cceeaec",
   "metadata": {
    "execution": {
     "iopub.execute_input": "2022-07-10T06:47:52.334859Z",
     "iopub.status.busy": "2022-07-10T06:47:52.334128Z",
     "iopub.status.idle": "2022-07-10T06:47:52.351541Z",
     "shell.execute_reply": "2022-07-10T06:47:52.350281Z"
    },
    "papermill": {
     "duration": 0.030184,
     "end_time": "2022-07-10T06:47:52.353989",
     "exception": false,
     "start_time": "2022-07-10T06:47:52.323805",
     "status": "completed"
    },
    "tags": []
   },
   "outputs": [
    {
     "data": {
      "text/html": [
       "<div>\n",
       "<style scoped>\n",
       "    .dataframe tbody tr th:only-of-type {\n",
       "        vertical-align: middle;\n",
       "    }\n",
       "\n",
       "    .dataframe tbody tr th {\n",
       "        vertical-align: top;\n",
       "    }\n",
       "\n",
       "    .dataframe thead th {\n",
       "        text-align: right;\n",
       "    }\n",
       "</style>\n",
       "<table border=\"1\" class=\"dataframe\">\n",
       "  <thead>\n",
       "    <tr style=\"text-align: right;\">\n",
       "      <th></th>\n",
       "      <th>MSPUS</th>\n",
       "    </tr>\n",
       "    <tr>\n",
       "      <th>DATE</th>\n",
       "      <th></th>\n",
       "    </tr>\n",
       "  </thead>\n",
       "  <tbody>\n",
       "    <tr>\n",
       "      <th>1963-01-01</th>\n",
       "      <td>17800.0</td>\n",
       "    </tr>\n",
       "    <tr>\n",
       "      <th>1963-04-01</th>\n",
       "      <td>18000.0</td>\n",
       "    </tr>\n",
       "    <tr>\n",
       "      <th>1963-07-01</th>\n",
       "      <td>17900.0</td>\n",
       "    </tr>\n",
       "    <tr>\n",
       "      <th>1963-10-01</th>\n",
       "      <td>18500.0</td>\n",
       "    </tr>\n",
       "    <tr>\n",
       "      <th>1964-01-01</th>\n",
       "      <td>18500.0</td>\n",
       "    </tr>\n",
       "  </tbody>\n",
       "</table>\n",
       "</div>"
      ],
      "text/plain": [
       "              MSPUS\n",
       "DATE               \n",
       "1963-01-01  17800.0\n",
       "1963-04-01  18000.0\n",
       "1963-07-01  17900.0\n",
       "1963-10-01  18500.0\n",
       "1964-01-01  18500.0"
      ]
     },
     "execution_count": 6,
     "metadata": {},
     "output_type": "execute_result"
    }
   ],
   "source": [
    "df.head()"
   ]
  },
  {
   "cell_type": "code",
   "execution_count": 7,
   "id": "cce1fb2a",
   "metadata": {
    "execution": {
     "iopub.execute_input": "2022-07-10T06:47:52.372313Z",
     "iopub.status.busy": "2022-07-10T06:47:52.371357Z",
     "iopub.status.idle": "2022-07-10T06:47:52.396830Z",
     "shell.execute_reply": "2022-07-10T06:47:52.395665Z"
    },
    "papermill": {
     "duration": 0.037121,
     "end_time": "2022-07-10T06:47:52.399208",
     "exception": false,
     "start_time": "2022-07-10T06:47:52.362087",
     "status": "completed"
    },
    "tags": []
   },
   "outputs": [
    {
     "data": {
      "text/html": [
       "<div>\n",
       "<style scoped>\n",
       "    .dataframe tbody tr th:only-of-type {\n",
       "        vertical-align: middle;\n",
       "    }\n",
       "\n",
       "    .dataframe tbody tr th {\n",
       "        vertical-align: top;\n",
       "    }\n",
       "\n",
       "    .dataframe thead th {\n",
       "        text-align: right;\n",
       "    }\n",
       "</style>\n",
       "<table border=\"1\" class=\"dataframe\">\n",
       "  <thead>\n",
       "    <tr style=\"text-align: right;\">\n",
       "      <th></th>\n",
       "      <th>count</th>\n",
       "      <th>mean</th>\n",
       "      <th>std</th>\n",
       "      <th>min</th>\n",
       "      <th>25%</th>\n",
       "      <th>50%</th>\n",
       "      <th>75%</th>\n",
       "      <th>max</th>\n",
       "    </tr>\n",
       "  </thead>\n",
       "  <tbody>\n",
       "    <tr>\n",
       "      <th>MSPUS</th>\n",
       "      <td>237.0</td>\n",
       "      <td>143973.417722</td>\n",
       "      <td>103386.305</td>\n",
       "      <td>17800.0</td>\n",
       "      <td>51600.0</td>\n",
       "      <td>125000.0</td>\n",
       "      <td>224300.0</td>\n",
       "      <td>428700.0</td>\n",
       "    </tr>\n",
       "  </tbody>\n",
       "</table>\n",
       "</div>"
      ],
      "text/plain": [
       "       count           mean         std      min      25%       50%       75%  \\\n",
       "MSPUS  237.0  143973.417722  103386.305  17800.0  51600.0  125000.0  224300.0   \n",
       "\n",
       "            max  \n",
       "MSPUS  428700.0  "
      ]
     },
     "execution_count": 7,
     "metadata": {},
     "output_type": "execute_result"
    }
   ],
   "source": [
    "df.describe().transpose()"
   ]
  },
  {
   "cell_type": "code",
   "execution_count": 8,
   "id": "f33410fe",
   "metadata": {
    "execution": {
     "iopub.execute_input": "2022-07-10T06:47:52.418441Z",
     "iopub.status.busy": "2022-07-10T06:47:52.417867Z",
     "iopub.status.idle": "2022-07-10T06:47:52.724334Z",
     "shell.execute_reply": "2022-07-10T06:47:52.723500Z"
    },
    "papermill": {
     "duration": 0.319482,
     "end_time": "2022-07-10T06:47:52.727487",
     "exception": false,
     "start_time": "2022-07-10T06:47:52.408005",
     "status": "completed"
    },
    "tags": []
   },
   "outputs": [
    {
     "data": {
      "image/png": "[encoded data removed]",
      "text/plain": [
       "<Figure size 2160x576 with 1 Axes>"
      ]
     },
     "metadata": {
      "needs_background": "light"
     },
     "output_type": "display_data"
    }
   ],
   "source": [
    "import matplotlib.dates as mdates\n",
    "\n",
    "fig,ax=plt.subplots(figsize=(30,8))\n",
    "monthly_locator=mdates.MonthLocator()\n",
    "year_locator=mdates.MonthLocator(interval=12)\n",
    "year_month_formatter=mdates.DateFormatter(\"%Y-%m\")\n",
    "ax.xaxis.set_major_locator(year_locator)\n",
    "ax.xaxis.set_minor_locator(monthly_locator)\n",
    "ax.xaxis.set_major_formatter(year_month_formatter)\n",
    "ax.plot(df.index,df.MSPUS)\n",
    "fig.autofmt_xdate()"
   ]
  },
  {
   "cell_type": "code",
   "execution_count": 9,
   "id": "c3fd8f6a",
   "metadata": {
    "execution": {
     "iopub.execute_input": "2022-07-10T06:47:52.753315Z",
     "iopub.status.busy": "2022-07-10T06:47:52.752582Z",
     "iopub.status.idle": "2022-07-10T06:47:52.759287Z",
     "shell.execute_reply": "2022-07-10T06:47:52.758501Z"
    },
    "papermill": {
     "duration": 0.019693,
     "end_time": "2022-07-10T06:47:52.761526",
     "exception": false,
     "start_time": "2022-07-10T06:47:52.741833",
     "status": "completed"
    },
    "tags": []
   },
   "outputs": [],
   "source": [
    "# Check stationarity of the data\n",
    "def adf_test(timeseries):\n",
    "    print(\"Results of Augmented Dickey-fuller test\")\n",
    "    dftest = adfuller(timeseries,autolag='AIC')\n",
    "    dfoutput=pd.Series(dftest[0:4],index=['Test Statistic','p-value','#lags used','number of observations used'])\n",
    "    for key,value in dftest[4].items():\n",
    "        dfoutput['critical value (%s)'%key]= value\n",
    "    print(dfoutput)"
   ]
  },
  {
   "cell_type": "code",
   "execution_count": 10,
   "id": "87732cf0",
   "metadata": {
    "execution": {
     "iopub.execute_input": "2022-07-10T06:47:52.781172Z",
     "iopub.status.busy": "2022-07-10T06:47:52.780540Z",
     "iopub.status.idle": "2022-07-10T06:47:52.798644Z",
     "shell.execute_reply": "2022-07-10T06:47:52.797519Z"
    },
    "papermill": {
     "duration": 0.030804,
     "end_time": "2022-07-10T06:47:52.801142",
     "exception": false,
     "start_time": "2022-07-10T06:47:52.770338",
     "status": "completed"
    },
    "tags": []
   },
   "outputs": [
    {
     "data": {
      "text/html": [
       "<div>\n",
       "<style scoped>\n",
       "    .dataframe tbody tr th:only-of-type {\n",
       "        vertical-align: middle;\n",
       "    }\n",
       "\n",
       "    .dataframe tbody tr th {\n",
       "        vertical-align: top;\n",
       "    }\n",
       "\n",
       "    .dataframe thead th {\n",
       "        text-align: right;\n",
       "    }\n",
       "</style>\n",
       "<table border=\"1\" class=\"dataframe\">\n",
       "  <thead>\n",
       "    <tr style=\"text-align: right;\">\n",
       "      <th></th>\n",
       "      <th>MSPUS</th>\n",
       "      <th>first_diff</th>\n",
       "    </tr>\n",
       "    <tr>\n",
       "      <th>DATE</th>\n",
       "      <th></th>\n",
       "      <th></th>\n",
       "    </tr>\n",
       "  </thead>\n",
       "  <tbody>\n",
       "    <tr>\n",
       "      <th>1963-01-01</th>\n",
       "      <td>17800.0</td>\n",
       "      <td>NaN</td>\n",
       "    </tr>\n",
       "    <tr>\n",
       "      <th>1963-04-01</th>\n",
       "      <td>18000.0</td>\n",
       "      <td>200.0</td>\n",
       "    </tr>\n",
       "    <tr>\n",
       "      <th>1963-07-01</th>\n",
       "      <td>17900.0</td>\n",
       "      <td>-100.0</td>\n",
       "    </tr>\n",
       "    <tr>\n",
       "      <th>1963-10-01</th>\n",
       "      <td>18500.0</td>\n",
       "      <td>600.0</td>\n",
       "    </tr>\n",
       "    <tr>\n",
       "      <th>1964-01-01</th>\n",
       "      <td>18500.0</td>\n",
       "      <td>0.0</td>\n",
       "    </tr>\n",
       "  </tbody>\n",
       "</table>\n",
       "</div>"
      ],
      "text/plain": [
       "              MSPUS  first_diff\n",
       "DATE                           \n",
       "1963-01-01  17800.0         NaN\n",
       "1963-04-01  18000.0       200.0\n",
       "1963-07-01  17900.0      -100.0\n",
       "1963-10-01  18500.0       600.0\n",
       "1964-01-01  18500.0         0.0"
      ]
     },
     "execution_count": 10,
     "metadata": {},
     "output_type": "execute_result"
    }
   ],
   "source": [
    "df['first_diff']=df['MSPUS'].diff(periods=1)\n",
    "df.head()"
   ]
  },
  {
   "cell_type": "code",
   "execution_count": 11,
   "id": "5d861d5f",
   "metadata": {
    "execution": {
     "iopub.execute_input": "2022-07-10T06:47:52.822172Z",
     "iopub.status.busy": "2022-07-10T06:47:52.821068Z",
     "iopub.status.idle": "2022-07-10T06:47:52.856196Z",
     "shell.execute_reply": "2022-07-10T06:47:52.854385Z"
    },
    "papermill": {
     "duration": 0.048367,
     "end_time": "2022-07-10T06:47:52.858954",
     "exception": false,
     "start_time": "2022-07-10T06:47:52.810587",
     "status": "completed"
    },
    "tags": []
   },
   "outputs": [
    {
     "name": "stdout",
     "output_type": "stream",
     "text": [
      "Results of Augmented Dickey-fuller test\n",
      "Test Statistic                  -2.901239\n",
      "p-value                          0.045204\n",
      "#lags used                      11.000000\n",
      "number of observations used    224.000000\n",
      "critical value (1%)             -3.459885\n",
      "critical value (5%)             -2.874531\n",
      "critical value (10%)            -2.573694\n",
      "dtype: float64\n"
     ]
    }
   ],
   "source": [
    "adf_test(df.first_diff.dropna())"
   ]
  },
  {
   "cell_type": "markdown",
   "id": "897628b6",
   "metadata": {
    "papermill": {
     "duration": 0.009863,
     "end_time": "2022-07-10T06:47:52.878528",
     "exception": false,
     "start_time": "2022-07-10T06:47:52.868665",
     "status": "completed"
    },
    "tags": []
   },
   "source": [
    "P-Value is at the border . Its less than 0.05 but not much so that we can decide about wether the series is stationary or not."
   ]
  },
  {
   "cell_type": "code",
   "execution_count": 12,
   "id": "24c81e72",
   "metadata": {
    "execution": {
     "iopub.execute_input": "2022-07-10T06:47:52.902680Z",
     "iopub.status.busy": "2022-07-10T06:47:52.901760Z",
     "iopub.status.idle": "2022-07-10T06:47:52.909287Z",
     "shell.execute_reply": "2022-07-10T06:47:52.908093Z"
    },
    "papermill": {
     "duration": 0.02312,
     "end_time": "2022-07-10T06:47:52.912268",
     "exception": false,
     "start_time": "2022-07-10T06:47:52.889148",
     "status": "completed"
    },
    "tags": []
   },
   "outputs": [],
   "source": [
    "# Check KPSS test\n",
    "def kpss_test(timeseries):\n",
    "    print ('Results of KPSS Test:')\n",
    "    kpsstest = kpss(timeseries, regression='c')\n",
    "    kpss_output = pd.Series(kpsstest[0:3], index=['Test Statistic','p-value','#Lags Used'])\n",
    "    for key,value in kpsstest[3].items():\n",
    "        kpss_output['Critical Value (%s)'%key] = value\n",
    "    print (kpss_output)"
   ]
  },
  {
   "cell_type": "code",
   "execution_count": 13,
   "id": "7c8cd63b",
   "metadata": {
    "execution": {
     "iopub.execute_input": "2022-07-10T06:47:52.933380Z",
     "iopub.status.busy": "2022-07-10T06:47:52.932774Z",
     "iopub.status.idle": "2022-07-10T06:47:52.942920Z",
     "shell.execute_reply": "2022-07-10T06:47:52.941296Z"
    },
    "papermill": {
     "duration": 0.023272,
     "end_time": "2022-07-10T06:47:52.945245",
     "exception": false,
     "start_time": "2022-07-10T06:47:52.921973",
     "status": "completed"
    },
    "tags": []
   },
   "outputs": [
    {
     "name": "stdout",
     "output_type": "stream",
     "text": [
      "Results of KPSS Test:\n",
      "Test Statistic           0.621725\n",
      "p-value                  0.020661\n",
      "#Lags Used               8.000000\n",
      "Critical Value (10%)     0.347000\n",
      "Critical Value (5%)      0.463000\n",
      "Critical Value (2.5%)    0.574000\n",
      "Critical Value (1%)      0.739000\n",
      "dtype: float64\n"
     ]
    }
   ],
   "source": [
    "kpss_test(df.first_diff.dropna())"
   ]
  },
  {
   "cell_type": "markdown",
   "id": "163b6c41",
   "metadata": {
    "papermill": {
     "duration": 0.009208,
     "end_time": "2022-07-10T06:47:52.963594",
     "exception": false,
     "start_time": "2022-07-10T06:47:52.954386",
     "status": "completed"
    },
    "tags": []
   },
   "source": [
    "Pvalue is not >0.05 so it seems series is not stationary."
   ]
  },
  {
   "cell_type": "code",
   "execution_count": 14,
   "id": "68755561",
   "metadata": {
    "execution": {
     "iopub.execute_input": "2022-07-10T06:47:52.984431Z",
     "iopub.status.busy": "2022-07-10T06:47:52.982997Z",
     "iopub.status.idle": "2022-07-10T06:47:53.195591Z",
     "shell.execute_reply": "2022-07-10T06:47:53.194692Z"
    },
    "papermill": {
     "duration": 0.225233,
     "end_time": "2022-07-10T06:47:53.197872",
     "exception": false,
     "start_time": "2022-07-10T06:47:52.972639",
     "status": "completed"
    },
    "tags": []
   },
   "outputs": [
    {
     "data": {
      "image/png": "[encoded data removed]",
      "text/plain": [
       "<Figure size 1008x432 with 1 Axes>"
      ]
     },
     "metadata": {
      "needs_background": "light"
     },
     "output_type": "display_data"
    }
   ],
   "source": [
    "# Check ACF(Autocorrelation)\n",
    "fig,ax=plt.subplots(figsize=(14,6))\n",
    "plot_acf(df.first_diff.dropna(),ax=ax,lags=100);\n",
    "plt.ylim([-0.5,1.05]);"
   ]
  },
  {
   "cell_type": "markdown",
   "id": "5624069a",
   "metadata": {
    "papermill": {
     "duration": 0.009295,
     "end_time": "2022-07-10T06:47:53.216905",
     "exception": false,
     "start_time": "2022-07-10T06:47:53.207610",
     "status": "completed"
    },
    "tags": []
   },
   "source": [
    "Since series does not pass both tests, we can say that its not stationary."
   ]
  },
  {
   "cell_type": "markdown",
   "id": "66b6bfa8",
   "metadata": {
    "papermill": {
     "duration": 0.009137,
     "end_time": "2022-07-10T06:47:53.235481",
     "exception": false,
     "start_time": "2022-07-10T06:47:53.226344",
     "status": "completed"
    },
    "tags": []
   },
   "source": [
    "Split the data in (70%,20%,10%) for the training, validation and test sets. Data is not shuffled before splitting. Because it ensures windows of consecutive samples is still possible and validation/test data looks more realistic."
   ]
  },
  {
   "cell_type": "code",
   "execution_count": 15,
   "id": "7d030035",
   "metadata": {
    "execution": {
     "iopub.execute_input": "2022-07-10T06:47:53.257527Z",
     "iopub.status.busy": "2022-07-10T06:47:53.256240Z",
     "iopub.status.idle": "2022-07-10T06:47:53.264504Z",
     "shell.execute_reply": "2022-07-10T06:47:53.263313Z"
    },
    "papermill": {
     "duration": 0.022071,
     "end_time": "2022-07-10T06:47:53.266948",
     "exception": false,
     "start_time": "2022-07-10T06:47:53.244877",
     "status": "completed"
    },
    "tags": []
   },
   "outputs": [],
   "source": [
    "df.drop(['first_diff'],axis=1,inplace=True)"
   ]
  },
  {
   "cell_type": "code",
   "execution_count": 16,
   "id": "3ce9814d",
   "metadata": {
    "execution": {
     "iopub.execute_input": "2022-07-10T06:47:53.288226Z",
     "iopub.status.busy": "2022-07-10T06:47:53.287848Z",
     "iopub.status.idle": "2022-07-10T06:47:53.298472Z",
     "shell.execute_reply": "2022-07-10T06:47:53.297356Z"
    },
    "papermill": {
     "duration": 0.024172,
     "end_time": "2022-07-10T06:47:53.300691",
     "exception": false,
     "start_time": "2022-07-10T06:47:53.276519",
     "status": "completed"
    },
    "tags": []
   },
   "outputs": [
    {
     "data": {
      "text/html": [
       "<div>\n",
       "<style scoped>\n",
       "    .dataframe tbody tr th:only-of-type {\n",
       "        vertical-align: middle;\n",
       "    }\n",
       "\n",
       "    .dataframe tbody tr th {\n",
       "        vertical-align: top;\n",
       "    }\n",
       "\n",
       "    .dataframe thead th {\n",
       "        text-align: right;\n",
       "    }\n",
       "</style>\n",
       "<table border=\"1\" class=\"dataframe\">\n",
       "  <thead>\n",
       "    <tr style=\"text-align: right;\">\n",
       "      <th></th>\n",
       "      <th>MSPUS</th>\n",
       "    </tr>\n",
       "    <tr>\n",
       "      <th>DATE</th>\n",
       "      <th></th>\n",
       "    </tr>\n",
       "  </thead>\n",
       "  <tbody>\n",
       "    <tr>\n",
       "      <th>1963-01-01</th>\n",
       "      <td>17800.0</td>\n",
       "    </tr>\n",
       "    <tr>\n",
       "      <th>1963-04-01</th>\n",
       "      <td>18000.0</td>\n",
       "    </tr>\n",
       "    <tr>\n",
       "      <th>1963-07-01</th>\n",
       "      <td>17900.0</td>\n",
       "    </tr>\n",
       "    <tr>\n",
       "      <th>1963-10-01</th>\n",
       "      <td>18500.0</td>\n",
       "    </tr>\n",
       "    <tr>\n",
       "      <th>1964-01-01</th>\n",
       "      <td>18500.0</td>\n",
       "    </tr>\n",
       "  </tbody>\n",
       "</table>\n",
       "</div>"
      ],
      "text/plain": [
       "              MSPUS\n",
       "DATE               \n",
       "1963-01-01  17800.0\n",
       "1963-04-01  18000.0\n",
       "1963-07-01  17900.0\n",
       "1963-10-01  18500.0\n",
       "1964-01-01  18500.0"
      ]
     },
     "execution_count": 16,
     "metadata": {},
     "output_type": "execute_result"
    }
   ],
   "source": [
    "df.head()"
   ]
  },
  {
   "cell_type": "code",
   "execution_count": 17,
   "id": "61e5e72a",
   "metadata": {
    "execution": {
     "iopub.execute_input": "2022-07-10T06:47:53.322486Z",
     "iopub.status.busy": "2022-07-10T06:47:53.321843Z",
     "iopub.status.idle": "2022-07-10T06:47:53.327357Z",
     "shell.execute_reply": "2022-07-10T06:47:53.326590Z"
    },
    "papermill": {
     "duration": 0.018978,
     "end_time": "2022-07-10T06:47:53.329591",
     "exception": false,
     "start_time": "2022-07-10T06:47:53.310613",
     "status": "completed"
    },
    "tags": []
   },
   "outputs": [],
   "source": [
    "n=len(df)\n",
    "train_df=df[0:int(n*0.7)]\n",
    "val_df=df[int(n*0.7):int(n*0.9)]\n",
    "test_df=df[int(n*0.9):]\n",
    "num_features=df.shape[1]"
   ]
  },
  {
   "cell_type": "markdown",
   "id": "4d5bd758",
   "metadata": {
    "papermill": {
     "duration": 0.009486,
     "end_time": "2022-07-10T06:47:53.348845",
     "exception": false,
     "start_time": "2022-07-10T06:47:53.339359",
     "status": "completed"
    },
    "tags": []
   },
   "source": [
    "###Normalize the data\n",
    "It is importnat to scale features before training a neural network. Normalization=subtract mean from data and divide by  standard deviation.\n",
    "Normalization is done only using the training data to preven peeking into validation or test data."
   ]
  },
  {
   "cell_type": "code",
   "execution_count": 18,
   "id": "15e853c1",
   "metadata": {
    "execution": {
     "iopub.execute_input": "2022-07-10T06:47:53.369935Z",
     "iopub.status.busy": "2022-07-10T06:47:53.369321Z",
     "iopub.status.idle": "2022-07-10T06:47:53.377400Z",
     "shell.execute_reply": "2022-07-10T06:47:53.376607Z"
    },
    "papermill": {
     "duration": 0.020847,
     "end_time": "2022-07-10T06:47:53.379357",
     "exception": false,
     "start_time": "2022-07-10T06:47:53.358510",
     "status": "completed"
    },
    "tags": []
   },
   "outputs": [],
   "source": [
    "train_mean=train_df.mean()\n",
    "train_std=train_df.std()\n",
    "\n",
    "train_df=(train_df-train_mean)/train_std\n",
    "val_df=(val_df-train_mean)/train_std\n",
    "test_df=(test_df-train_mean)/train_std"
   ]
  },
  {
   "cell_type": "code",
   "execution_count": 19,
   "id": "796f2478",
   "metadata": {
    "execution": {
     "iopub.execute_input": "2022-07-10T06:47:53.401553Z",
     "iopub.status.busy": "2022-07-10T06:47:53.400940Z",
     "iopub.status.idle": "2022-07-10T06:47:53.601539Z",
     "shell.execute_reply": "2022-07-10T06:47:53.600565Z"
    },
    "papermill": {
     "duration": 0.214623,
     "end_time": "2022-07-10T06:47:53.603703",
     "exception": false,
     "start_time": "2022-07-10T06:47:53.389080",
     "status": "completed"
    },
    "tags": []
   },
   "outputs": [
    {
     "data": {
      "image/png": "[encoded data removed]",
      "text/plain": [
       "<Figure size 864x432 with 1 Axes>"
      ]
     },
     "metadata": {
      "needs_background": "light"
     },
     "output_type": "display_data"
    }
   ],
   "source": [
    "# Check the distribution of price feature. This code is useful even if data has more features\n",
    "df_std=(df-train_mean)/train_std\n",
    "df_std=df_std.melt(var_name='Column',value_name='Normalized')\n",
    "plt.figure(figsize=(12,6))\n",
    "ax=sns.violinplot(x='Column',y ='Normalized',data=df_std)\n"
   ]
  },
  {
   "cell_type": "markdown",
   "id": "be079d50",
   "metadata": {
    "papermill": {
     "duration": 0.010257,
     "end_time": "2022-07-10T06:47:53.624436",
     "exception": false,
     "start_time": "2022-07-10T06:47:53.614179",
     "status": "completed"
    },
    "tags": []
   },
   "source": [
    "Windowing Data\n",
    "We will use window of consecutive samples from the data to predict multiple time point in future.\n",
    "Create WindowGenerator class to create windows as required.\n",
    "This class makes winodws of trainaing, validation and test Dataframes. The data will be converted to tf.data.Dataset of windows."
   ]
  },
  {
   "cell_type": "code",
   "execution_count": 20,
   "id": "e8a52611",
   "metadata": {
    "execution": {
     "iopub.execute_input": "2022-07-10T06:47:53.647402Z",
     "iopub.status.busy": "2022-07-10T06:47:53.646740Z",
     "iopub.status.idle": "2022-07-10T06:47:53.657176Z",
     "shell.execute_reply": "2022-07-10T06:47:53.656044Z"
    },
    "papermill": {
     "duration": 0.024774,
     "end_time": "2022-07-10T06:47:53.659656",
     "exception": false,
     "start_time": "2022-07-10T06:47:53.634882",
     "status": "completed"
    },
    "tags": []
   },
   "outputs": [],
   "source": [
    "class WindowGenerator():\n",
    "  def __init__(self, input_width, label_width, shift,\n",
    "               train_df=train_df, val_df=val_df, test_df=test_df,\n",
    "               label_columns=None):\n",
    "    # Store the raw data.\n",
    "    self.train_df = train_df\n",
    "    self.val_df = val_df\n",
    "    self.test_df = test_df\n",
    "\n",
    "    # Work out the label column indices.\n",
    "    self.label_columns = label_columns\n",
    "    if label_columns is not None:\n",
    "      self.label_columns_indices = {name: i for i, name in\n",
    "                                    enumerate(label_columns)}\n",
    "    self.column_indices = {name: i for i, name in\n",
    "                           enumerate(train_df.columns)}\n",
    "\n",
    "    # Work out the window parameters.\n",
    "    self.input_width = input_width\n",
    "    self.label_width = label_width\n",
    "    self.shift = shift\n",
    "\n",
    "    self.total_window_size = input_width + shift\n",
    "\n",
    "    self.input_slice = slice(0, input_width)\n",
    "    self.input_indices = np.arange(self.total_window_size)[self.input_slice]\n",
    "\n",
    "    self.label_start = self.total_window_size - self.label_width\n",
    "    self.labels_slice = slice(self.label_start, None)\n",
    "    self.label_indices = np.arange(self.total_window_size)[self.labels_slice]\n",
    "\n",
    "  def __repr__(self):\n",
    "    return '\\n'.join([\n",
    "        f'Total window size: {self.total_window_size}',\n",
    "        f'Input indices: {self.input_indices}',\n",
    "        f'Label indices: {self.label_indices}',\n",
    "        f'Label column name(s): {self.label_columns}'])"
   ]
  },
  {
   "cell_type": "code",
   "execution_count": 21,
   "id": "0326a693",
   "metadata": {
    "execution": {
     "iopub.execute_input": "2022-07-10T06:47:53.681824Z",
     "iopub.status.busy": "2022-07-10T06:47:53.681395Z",
     "iopub.status.idle": "2022-07-10T06:47:53.688834Z",
     "shell.execute_reply": "2022-07-10T06:47:53.687914Z"
    },
    "papermill": {
     "duration": 0.021023,
     "end_time": "2022-07-10T06:47:53.690921",
     "exception": false,
     "start_time": "2022-07-10T06:47:53.669898",
     "status": "completed"
    },
    "tags": []
   },
   "outputs": [
    {
     "data": {
      "text/plain": [
       "Total window size: 20\n",
       "Input indices: [0 1 2 3 4 5 6 7 8 9]\n",
       "Label indices: [19]\n",
       "Label column name(s): ['Price']"
      ]
     },
     "execution_count": 21,
     "metadata": {},
     "output_type": "execute_result"
    }
   ],
   "source": [
    "#Generate window with width=10 label_width=1 and shift=10\n",
    "w1=WindowGenerator(input_width=10, label_width=1,shift=10,label_columns=['Price'])\n",
    "w1"
   ]
  },
  {
   "cell_type": "code",
   "execution_count": 22,
   "id": "ba03394d",
   "metadata": {
    "execution": {
     "iopub.execute_input": "2022-07-10T06:47:53.713612Z",
     "iopub.status.busy": "2022-07-10T06:47:53.712939Z",
     "iopub.status.idle": "2022-07-10T06:47:53.719058Z",
     "shell.execute_reply": "2022-07-10T06:47:53.718354Z"
    },
    "papermill": {
     "duration": 0.019622,
     "end_time": "2022-07-10T06:47:53.720938",
     "exception": false,
     "start_time": "2022-07-10T06:47:53.701316",
     "status": "completed"
    },
    "tags": []
   },
   "outputs": [
    {
     "data": {
      "text/plain": [
       "Total window size: 6\n",
       "Input indices: [0 1 2 3 4]\n",
       "Label indices: [5]\n",
       "Label column name(s): House Price"
      ]
     },
     "execution_count": 22,
     "metadata": {},
     "output_type": "execute_result"
    }
   ],
   "source": [
    "# Check another example\n",
    "w2=WindowGenerator(input_width=5, label_width=1,shift=1,label_columns='House Price')\n",
    "w2"
   ]
  }
 ],
 "metadata": {
  "kernelspec": {
   "display_name": "Python 3",
   "language": "python",
   "name": "python3"
  },
  "language_info": {
   "codemirror_mode": {
    "name": "ipython",
    "version": 3
   },
   "file_extension": ".py",
   "mimetype": "text/x-python",
   "name": "python",
   "nbconvert_exporter": "python",
   "pygments_lexer": "ipython3",
   "version": "3.7.12"
  },
  "papermill": {
   "default_parameters": {},
   "duration": 25.686193,
   "end_time": "2022-07-10T06:47:56.401020",
   "environment_variables": {},
   "exception": null,
   "input_path": "__notebook__.ipynb",
   "output_path": "__notebook__.ipynb",
   "parameters": {},
   "start_time": "2022-07-10T06:47:30.714827",
   "version": "2.3.4"
  }
 },
 "nbformat": 4,
 "nbformat_minor": 5
}
